{
 "cells": [
  {
   "cell_type": "markdown",
   "id": "3f54fa09",
   "metadata": {},
   "source": [
    "# Quick look at Butterworth filter and MFT"
   ]
  },
  {
   "cell_type": "code",
   "execution_count": null,
   "id": "7395ba07",
   "metadata": {},
   "outputs": [],
   "source": [
    "from matplotlib.colors import LogNorm\n",
    "import matplotlib.pyplot as plt\n",
    "import numpy as np\n",
    "%matplotlib inline\n",
    "\n",
    "from Asterix.optics import butterworth_circle, mft, roundpupil"
   ]
  },
  {
   "cell_type": "markdown",
   "id": "2a57bc60",
   "metadata": {},
   "source": [
    "## Butterworth filter"
   ]
  },
  {
   "cell_type": "code",
   "execution_count": null,
   "id": "bf725200",
   "metadata": {},
   "outputs": [],
   "source": [
    "siz = 100\n",
    "rad = int(siz / 2)\n",
    "\n",
    "bfilter1 = butterworth_circle(siz, rad, order=1, xshift=-0.5, yshift=-0.5)\n",
    "bfilter2 = butterworth_circle(siz, rad, order=2, xshift=-0.5, yshift=-0.5)\n",
    "bfilter3 = butterworth_circle(siz, rad, order=3, xshift=-0.5, yshift=-0.5)\n",
    "bfilter4 = butterworth_circle(siz, rad, order=4, xshift=-0.5, yshift=-0.5)\n",
    "bfilter5 = butterworth_circle(siz, rad, order=5, xshift=-0.5, yshift=-0.5)\n",
    "bfilter6 = butterworth_circle(siz, rad, order=6, xshift=-0.5, yshift=-0.5)"
   ]
  },
  {
   "cell_type": "code",
   "execution_count": null,
   "id": "9fff92de",
   "metadata": {},
   "outputs": [],
   "source": [
    "plt.figure(figsize=(16,8))\n",
    "plt.subplot(1,2,1)\n",
    "plt.imshow(bfilter5, cmap='Greys_r')\n",
    "plt.title(\"Order = 5\")\n",
    "plt.colorbar()\n",
    "plt.subplot(1,2,2)\n",
    "plt.plot(bfilter1[rad], label=\"order=1\")\n",
    "plt.plot(bfilter2[rad], label=\"order=2\")\n",
    "plt.plot(bfilter3[rad], label=\"order=3\")\n",
    "plt.plot(bfilter4[rad], label=\"order=4\")\n",
    "plt.plot(bfilter5[rad], label=\"order=5\")\n",
    "plt.plot(bfilter6[rad], label=\"order=6\")\n",
    "plt.legend()"
   ]
  },
  {
   "cell_type": "code",
   "execution_count": null,
   "id": "98905e10",
   "metadata": {},
   "outputs": [],
   "source": [
    "siz = 128\n",
    "filter_order = 15\n",
    "\n",
    "but1 = butterworth_circle(siz, siz / 1, filter_order)\n",
    "but2 = butterworth_circle(siz, siz / 2, filter_order)\n",
    "but5 = butterworth_circle(siz, siz / 5, filter_order)\n",
    "but10 = butterworth_circle(siz, siz / 10, filter_order)\n",
    "but15 = butterworth_circle(siz, siz / 15, filter_order)\n",
    "\n",
    "plt.plot(but1[int(siz/2)], label=\"alpha=1\")\n",
    "plt.plot(but2[int(siz/2)], label=\"alpha=2\")\n",
    "plt.plot(but5[int(siz/2)], label=\"alpha=5\")\n",
    "plt.plot(but10[int(siz/2)], label=\"alpha=10\")\n",
    "plt.plot(but15[int(siz/2)], label=\"alpha=15\")\n",
    "plt.legend()"
   ]
  },
  {
   "cell_type": "markdown",
   "id": "6d823c64",
   "metadata": {},
   "source": [
    "## MFT"
   ]
  },
  {
   "cell_type": "code",
   "execution_count": null,
   "id": "06cf97aa",
   "metadata": {},
   "outputs": [],
   "source": [
    "pdim = 8\n",
    "rad = pdim / 2\n",
    "\n",
    "pup = roundpupil(pdim, rad)\n",
    "plt.imshow(pup, cmap='Greys_r')"
   ]
  },
  {
   "cell_type": "code",
   "execution_count": null,
   "id": "e87d1974",
   "metadata": {},
   "outputs": [],
   "source": [
    "samp = 4\n",
    "offs = 0\n",
    "efield = mft(pup, real_dim_input=pdim, dim_output=pdim, nbres=samp)\n",
    "img = np.abs(efield)**2\n",
    "\n",
    "plt.imshow(img, cmap='inferno')\n",
    "plt.colorbar()"
   ]
  },
  {
   "cell_type": "code",
   "execution_count": null,
   "id": "a0a4e3cd",
   "metadata": {},
   "outputs": [],
   "source": []
  }
 ],
 "metadata": {
  "kernelspec": {
   "display_name": "Python 3 (ipykernel)",
   "language": "python",
   "name": "python3"
  },
  "language_info": {
   "codemirror_mode": {
    "name": "ipython",
    "version": 3
   },
   "file_extension": ".py",
   "mimetype": "text/x-python",
   "name": "python",
   "nbconvert_exporter": "python",
   "pygments_lexer": "ipython3",
   "version": "3.8.13"
  }
 },
 "nbformat": 4,
 "nbformat_minor": 5
}
