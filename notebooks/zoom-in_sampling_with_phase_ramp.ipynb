{
 "cells": [
  {
   "cell_type": "markdown",
   "id": "3c332f00",
   "metadata": {},
   "source": [
    "# Zoom-in sampling of coro including a phase ramp for shifts"
   ]
  },
  {
   "cell_type": "code",
   "execution_count": null,
   "id": "a7d5c068",
   "metadata": {},
   "outputs": [],
   "source": [
    "import os\n",
    "from matplotlib.colors import LogNorm\n",
    "import matplotlib.pyplot as plt\n",
    "import numpy as np\n",
    "%matplotlib inline\n",
    "\n",
    "from Asterix.optics import butterworth_circle, fqpm_mask, mft, prop_fpm_regional_sampling, fft_choosecenter, create_wrapped_vortex_mask\n",
    "from Asterix.optics import phase_amplitude_functions as paf\n",
    "from Asterix.utils.plotting import display_complex"
   ]
  },
  {
   "cell_type": "code",
   "execution_count": null,
   "id": "46911bc1",
   "metadata": {},
   "outputs": [],
   "source": [
    "def shift_phase_ramp(dim_pp, shift_x, shift_y):\n",
    "    \"\"\"\n",
    "    Create a phase ramp of size (dim_pp,dim_pp) that can be used as follow\n",
    "    to shift one image by (a,b) pixels : shift_im = real(fft(ifft(im)*exp(i phase ramp)))\n",
    "\n",
    "    AUTHOR: Axel Potier\n",
    "\n",
    "    Parameters\n",
    "    ----------\n",
    "    dim_pp : int\n",
    "        Size of the phase ramp (in pixels)\n",
    "    shift_x : float\n",
    "        Shift desired in the x direction (in pixels)\n",
    "    shift_y : float\n",
    "        Shift desired in the y direction (in pixels)\n",
    "\n",
    "    Returns\n",
    "    ------\n",
    "    masktot : 2D array\n",
    "        Phase ramp\n",
    "    \"\"\"\n",
    "    if (shift_x == 0) & (shift_y == 0):\n",
    "        ramp = 1\n",
    "    else:\n",
    "        maskx = np.linspace(-np.pi * shift_x, np.pi * shift_x, dim_pp, endpoint=False)\n",
    "        masky = np.linspace(-np.pi * shift_y, np.pi * shift_y, dim_pp, endpoint=False)\n",
    "        xx, yy = np.meshgrid(maskx, masky)\n",
    "        ramp = np.exp(-1j * xx) * np.exp(-1j * yy)\n",
    "    return ramp"
   ]
  },
  {
   "cell_type": "markdown",
   "id": "3f81ff59",
   "metadata": {},
   "source": [
    "## Set up inputs"
   ]
  },
  {
   "cell_type": "code",
   "execution_count": null,
   "id": "a68cabbf",
   "metadata": {},
   "outputs": [],
   "source": [
    "dim = 400\n",
    "ray = dim / 2\n",
    "shift = (0, 0)  # lambda/D\n",
    "\n",
    "nbrs_list = [0.1, 2., 10., 100.]\n",
    "nbrs_list2 = [0.1, 5., 30., 200.]\n",
    "nbrs_list3 = [40., 80., 120., 160.]"
   ]
  },
  {
   "cell_type": "code",
   "execution_count": null,
   "id": "ff860ec2",
   "metadata": {},
   "outputs": [],
   "source": [
    "# Create pupil aperture and Lyot stop\n",
    "pup = paf.roundpupil(dim, ray, grey_pup_bin_factor=10)\n",
    "lyot_stop = paf.roundpupil(dim, ray*0.95, grey_pup_bin_factor=1)\n",
    "\n",
    "plt.figure(figsize=(16,8))\n",
    "plt.subplot(1,2,1)\n",
    "plt.imshow(pup, cmap='Greys_r')\n",
    "plt.title('Grey pupil')\n",
    "plt.colorbar()\n",
    "plt.subplot(1,2,2)\n",
    "plt.imshow(lyot_stop, cmap='Greys_r')\n",
    "plt.title('Lyot stop')\n",
    "plt.colorbar()"
   ]
  },
  {
   "cell_type": "code",
   "execution_count": null,
   "id": "7b0c334d",
   "metadata": {},
   "outputs": [],
   "source": [
    "# Choose FPM\n",
    "fpm = fqpm_mask(pup.shape[0])\n",
    "# thval = np.array([0, 3, 4, 5, 8]) * np.pi / 8\n",
    "# phval = np.array([3, 0, 1, 2, 1]) * np.pi\n",
    "# jump = np.array([2, 2, 2, 2]) * np.pi\n",
    "# _, fpm = create_wrapped_vortex_mask(dim=pup.shape[0],\n",
    "#                                      thval=thval,\n",
    "#                                      phval=phval,\n",
    "#                                      jump=jump)\n",
    "\n",
    "plt.imshow(fpm, cmap='Reds')\n",
    "plt.title('Phase')\n",
    "plt.colorbar()"
   ]
  },
  {
   "cell_type": "markdown",
   "id": "355cde8b",
   "metadata": {},
   "source": [
    "## Test built-in function"
   ]
  },
  {
   "cell_type": "code",
   "execution_count": null,
   "id": "7eaeba71",
   "metadata": {},
   "outputs": [],
   "source": [
    "psam_pre_ls_builtin = prop_fpm_regional_sampling(pup, np.exp(1j*fpm), nbrs_list, shift=shift)\n",
    "\n",
    "display_complex(psam_pre_ls_builtin)\n",
    "plt.suptitle('Pre-LS E-field')"
   ]
  },
  {
   "cell_type": "code",
   "execution_count": null,
   "id": "7d6c8889",
   "metadata": {},
   "outputs": [],
   "source": [
    "plt.imshow(np.log10(np.abs(psam_pre_ls_builtin)**2), cmap='inferno')#, norm=LogNorm())"
   ]
  },
  {
   "cell_type": "markdown",
   "id": "b5b99eeb",
   "metadata": {},
   "source": [
    "Just look at its MFT"
   ]
  },
  {
   "cell_type": "code",
   "execution_count": null,
   "id": "f22cb6c3",
   "metadata": {},
   "outputs": [],
   "source": [
    "this = mft(psam_pre_ls_builtin, 400, 400, 64)\n",
    "plt.imshow(np.abs(this)**2, cmap='inferno', norm=LogNorm())"
   ]
  },
  {
   "cell_type": "markdown",
   "id": "30cf9634",
   "metadata": {},
   "source": [
    "## Break up function"
   ]
  },
  {
   "cell_type": "code",
   "execution_count": null,
   "id": "457b9de4",
   "metadata": {},
   "outputs": [],
   "source": [
    "dim = pup.shape[0]\n",
    "\n",
    "fpm_z = np.exp(1.j * fpm)\n",
    "nbres = res_list\n",
    "samp_outer = 2\n",
    "filter_order = 15\n",
    "alpha = 1.5\n",
    "\n",
    "print(dim)\n",
    "print(nbres)"
   ]
  },
  {
   "cell_type": "markdown",
   "id": "81a2308c",
   "metadata": {},
   "source": [
    "### Pre-compute phase ramp"
   ]
  },
  {
   "cell_type": "code",
   "execution_count": null,
   "id": "d28dfe75",
   "metadata": {},
   "outputs": [],
   "source": [
    "phase_ramp = shift_phase_ramp(dim, shift[0], shift[1])\n",
    "inverted_phase_ramp = shift_phase_ramp(dim, -px_shift_x, -px_shift_y)\n",
    "\n",
    "pup0 = np.array(pup, copy=True, dtype='complex128')"
   ]
  },
  {
   "cell_type": "markdown",
   "id": "3f072484",
   "metadata": {},
   "source": [
    "### Inner part of FPM"
   ]
  },
  {
   "cell_type": "code",
   "execution_count": null,
   "id": "c9c2fc30",
   "metadata": {},
   "outputs": [],
   "source": [
    "# Butterworth filter\n",
    "but0 = butterworth_circle(dim, dim / alpha, filter_order, -0.5, -0.5)\n",
    "display_complex(but0)"
   ]
  },
  {
   "cell_type": "code",
   "execution_count": null,
   "id": "28680db4",
   "metadata": {},
   "outputs": [],
   "source": [
    "# E-field before the FPM in inner part of focal plane\n",
    "efield_before_fpm = mft(pup0 * phase_ramp, real_dim_input=dim, dim_output=dim, nbres=nbres[0])\n",
    "display_complex(efield_before_fpm)\n",
    "\n",
    "print(f\"nbres={nbres[0]}\")\n",
    "print(np.where(np.abs(efield_before_fpm) == np.max(np.abs(efield_before_fpm))))"
   ]
  },
  {
   "cell_type": "code",
   "execution_count": null,
   "id": "2138180e",
   "metadata": {},
   "outputs": [],
   "source": [
    "plt.imshow(np.angle(phase_ramp), cmap='RdBu')\n",
    "plt.colorbar()"
   ]
  },
  {
   "cell_type": "code",
   "execution_count": null,
   "id": "0c121025",
   "metadata": {},
   "outputs": [],
   "source": [
    "# Total E-field before the LS\n",
    "efield_before_ls = mft(efield_before_fpm * fpm_z * but0, real_dim_input=dim, dim_output=dim, nbres=nbres[0],\n",
    "                       inverse=True) * inverted_phase_ramp\n",
    "display_complex(efield_before_ls)"
   ]
  },
  {
   "cell_type": "markdown",
   "id": "0746ca31",
   "metadata": {},
   "source": [
    "### Layers of FPM sampling"
   ]
  },
  {
   "cell_type": "code",
   "execution_count": null,
   "id": "098f23cf",
   "metadata": {},
   "outputs": [],
   "source": [
    "but_list = []\n",
    "pre_fpm_list = []\n",
    "pre_ls_list = []"
   ]
  },
  {
   "cell_type": "code",
   "execution_count": null,
   "id": "dd29342f",
   "metadata": {},
   "outputs": [],
   "source": [
    "const_but = butterworth_circle(dim, dim / alpha, filter_order, xshift=-0.5, yshift=-0.5)\n",
    "\n",
    "for k in range(nbres.shape[0] - 1):\n",
    "    print(f\"for k={k}, nbres={nbres[k + 1]}\")\n",
    "\n",
    "    # Butterworth filter in each layer\n",
    "    sizebut_here = dim / alpha * nbres[k] / nbres[k + 1]\n",
    "    but = (1 - butterworth_circle(dim, sizebut_here, filter_order, xshift=-0.5, yshift=-0.5)) * const_but\n",
    "    but_list.append(but)\n",
    "    \n",
    "    # E-field before the FPM in each layer    \n",
    "    ef_pre_fpm = mft(pup0 * phase_ramp, real_dim_input=dim, dim_output=dim, nbres=nbres[k + 1])\n",
    "    pre_fpm_list.append(ef_pre_fpm)\n",
    "\n",
    "    # E-field before the LS in each layer\n",
    "    ef_pre_ls = mft(ef_pre_fpm * fpm_z * but, real_dim_input=dim, dim_output=dim, nbres=nbres[k + 1],\n",
    "                    inverse=True) * inverted_phase_ramp\n",
    "    pre_ls_list.append(ef_pre_ls)"
   ]
  },
  {
   "cell_type": "code",
   "execution_count": null,
   "id": "14dc5e8a",
   "metadata": {},
   "outputs": [],
   "source": [
    "# Plot all filters\n",
    "plt.figure(figsize=(15,7))\n",
    "for k in range(3):\n",
    "    plt.subplot(2,3, k+1)\n",
    "    plt.imshow(np.abs(but_list[k])**2, cmap='Greys_r')\n",
    "    plt.colorbar()\n",
    "    plt.title(f\"Intensity, k={k}\")\n",
    "    plt.subplot(2,3, k+4)\n",
    "    plt.imshow(np.angle(but_list[k]), cmap='RdBu')\n",
    "    plt.colorbar()\n",
    "    plt.title(f\"Phase, k={k}\")"
   ]
  },
  {
   "cell_type": "code",
   "execution_count": null,
   "id": "c6c0ad09",
   "metadata": {},
   "outputs": [],
   "source": [
    "# MFT of butterworth filter\n",
    "print(dim / samp_outer)\n",
    "that0 = mft(but_list[0], 400, 400, 256)\n",
    "that1 = mft(but_list[1], 400, 400, 256)\n",
    "that2 = mft(but_list[2], 400, 400, 256)"
   ]
  },
  {
   "cell_type": "code",
   "execution_count": null,
   "id": "16523bae",
   "metadata": {},
   "outputs": [],
   "source": [
    "plt.imshow(np.abs(that0)**2, cmap='inferno', norm=LogNorm())"
   ]
  },
  {
   "cell_type": "markdown",
   "id": "af4a7e28",
   "metadata": {},
   "source": [
    "The filters are supposed to be the same. But the sampling will change when applied, so that the E-field won't be the same. The ratio between the elements of `nbres` used is the same in our case."
   ]
  },
  {
   "cell_type": "code",
   "execution_count": null,
   "id": "ce5d514c",
   "metadata": {},
   "outputs": [],
   "source": [
    "# Plot all E-fields before the FPM\n",
    "plt.figure(figsize=(15,7))\n",
    "for k in range(3):\n",
    "    plt.subplot(2,3,k+1)\n",
    "    plt.imshow(np.abs(pre_fpm_list[k])**2, cmap='inferno', norm=LogNorm())\n",
    "    plt.colorbar()\n",
    "    plt.title(f\"Intensity, k={k}, nbres={nbres[k+1]}\")\n",
    "    plt.subplot(2,3,k+4)\n",
    "    plt.imshow(np.angle(pre_fpm_list[k]), cmap='RdBu')\n",
    "    plt.colorbar()\n",
    "    plt.title(f\"Phase, k={k}\")"
   ]
  },
  {
   "cell_type": "code",
   "execution_count": null,
   "id": "41bf5ea8",
   "metadata": {
    "scrolled": false
   },
   "outputs": [],
   "source": [
    "# Analyze realized shifts of the PSF in each of the intensity images\n",
    "# to check the correct phase ramp has been used in all layers\n",
    "\n",
    "cen = pre_fpm_list[0].shape[0] / 2\n",
    "print(f\"cen = {cen}\\n\")\n",
    "\n",
    "plt.figure(figsize=(15, 5))\n",
    "for k in range(3):\n",
    "    plt.subplot(1, 3, k+1)\n",
    "    im = np.abs(pre_fpm_list[k])**2\n",
    "    plt.imshow(im, cmap='inferno', norm=LogNorm())\n",
    "    plt.colorbar()\n",
    "    plt.title(f\"Intensity, k={k}, nbres={nbres[k+1]}\")\n",
    "    \n",
    "    print(f\"nbres={nbres[k+1]}\")\n",
    "    print(f\"Measured px shift: {cen - np.where(im == np.max(im))[1]}\")\n",
    "    print('\\n')"
   ]
  },
  {
   "cell_type": "code",
   "execution_count": null,
   "id": "8c10f9ba",
   "metadata": {},
   "outputs": [],
   "source": [
    "# Plot filter over pre-FPM PSF\n",
    "n = 0\n",
    "plt.imshow(np.abs(but_list[n] * pre_fpm_list[n])**2, cmap='inferno', norm=LogNorm())\n",
    "plt.colorbar()"
   ]
  },
  {
   "cell_type": "code",
   "execution_count": null,
   "id": "ca0786ed",
   "metadata": {},
   "outputs": [],
   "source": [
    "# Plot all E-fields before the LS (intensity and phase)\n",
    "plt.figure(figsize=(15,7))\n",
    "for k in range(3):\n",
    "    plt.subplot(2,3,k+1)\n",
    "    plt.imshow(np.abs(pre_ls_list[k])**2, cmap='inferno', norm=LogNorm())\n",
    "    plt.colorbar()\n",
    "    plt.title(f\"Intensity, k={k}\")\n",
    "    plt.subplot(2,3,k+4)\n",
    "    plt.imshow(np.angle(pre_ls_list[k]), cmap='RdBu')\n",
    "    plt.colorbar()\n",
    "    plt.title(f\"Phase, k={k}\")"
   ]
  },
  {
   "cell_type": "code",
   "execution_count": null,
   "id": "fdc86a75",
   "metadata": {},
   "outputs": [],
   "source": [
    "# Plot all E-fields before the LS (absolute and real)\n",
    "plt.figure(figsize=(15,7))\n",
    "for k in range(3):\n",
    "    plt.subplot(2,3,k+1)\n",
    "    plt.imshow(np.abs(pre_ls_list[k]), cmap='inferno')\n",
    "    plt.colorbar()\n",
    "    plt.title(f\"Absolute value, k={k}\")\n",
    "    plt.subplot(2,3,k+4)\n",
    "    plt.imshow(np.real(pre_ls_list[k]), cmap='inferno')\n",
    "    plt.colorbar()\n",
    "    plt.title(f\"Real part, k={k}\")"
   ]
  },
  {
   "cell_type": "code",
   "execution_count": null,
   "id": "b1257e10",
   "metadata": {},
   "outputs": [],
   "source": [
    "# Total E-field before the LS\n",
    "summed_layers_before_ls = efield_before_ls + np.sum(np.array(pre_ls_list), axis=0)\n",
    "display_complex(summed_layers_before_ls)\n",
    "plt.suptitle(\"Summed pre-LS E-field, through all layers (except outermost)\")"
   ]
  },
  {
   "cell_type": "code",
   "execution_count": null,
   "id": "99c3569a",
   "metadata": {},
   "outputs": [],
   "source": [
    "plt.imshow(np.abs(summed_layers_before_ls)**2, cmap='inferno', norm=LogNorm())\n",
    "plt.colorbar()\n",
    "plt.title(\"Summed pre-LS E-field, through all layers (except outermost)\")"
   ]
  },
  {
   "cell_type": "code",
   "execution_count": null,
   "id": "44aacd69",
   "metadata": {},
   "outputs": [],
   "source": [
    "plt.figure(figsize=(16,8))\n",
    "\n",
    "plt.subplot(2,6,1)\n",
    "plt.imshow(np.log10(np.abs(efield_before_ls)**2), cmap='inferno')#, norm=LogNorm())\n",
    "plt.title('efield_before_ls')\n",
    "\n",
    "plt.subplot(2,6,2)\n",
    "plt.imshow(np.abs(pre_ls_list[0])**2, cmap='inferno', norm=LogNorm())\n",
    "plt.title('pre_ls_list[0]')\n",
    "\n",
    "plt.subplot(2,6,3)\n",
    "plt.imshow(np.abs(pre_ls_list[1])**2, cmap='inferno', norm=LogNorm())\n",
    "plt.title('pre_ls_list[1]')\n",
    "\n",
    "plt.subplot(2,6,4)\n",
    "plt.imshow(np.abs(pre_ls_list[2])**2, cmap='inferno', norm=LogNorm())\n",
    "plt.title('pre_ls_list[2]')\n",
    "\n",
    "plt.subplot(2,6,5)\n",
    "plt.imshow(np.log10(np.abs(np.sum(np.array(pre_ls_list), axis=0))**2), cmap='inferno')#, norm=LogNorm())\n",
    "plt.title('np.sum(np.array(pre_ls_list), axis=0)')\n",
    "\n",
    "plt.subplot(2,6,6)\n",
    "plt.imshow(np.log10(np.abs(summed_layers_before_ls)**2), cmap='inferno')#, norm=LogNorm())\n",
    "plt.title('summed_layers_before_ls')\n",
    "\n",
    "plt.subplot(2,6,7)\n",
    "plt.imshow(np.angle(efield_before_ls), cmap='RdBu', norm=LogNorm())\n",
    "plt.title('efield_before_ls')\n",
    "\n",
    "plt.subplot(2,6,8)\n",
    "plt.imshow(np.angle(pre_ls_list[0]), cmap='RdBu', norm=LogNorm())\n",
    "plt.title('pre_ls_list[0]')\n",
    "\n",
    "plt.subplot(2,6,9)\n",
    "plt.imshow(np.angle(pre_ls_list[1]), cmap='RdBu', norm=LogNorm())\n",
    "plt.title('pre_ls_list[1]')\n",
    "\n",
    "plt.subplot(2,6,10)\n",
    "plt.imshow(np.angle(pre_ls_list[2]), cmap='RdBu', norm=LogNorm())\n",
    "plt.title('pre_ls_list[2]')\n",
    "\n",
    "plt.subplot(2,6,11)\n",
    "plt.imshow(np.angle(np.sum(np.array(pre_ls_list), axis=0)), cmap='RdBu', norm=LogNorm())\n",
    "plt.title('np.sum(np.array(pre_ls_list), axis=0)')\n",
    "\n",
    "plt.subplot(2,6,12)\n",
    "plt.imshow(np.angle(summed_layers_before_ls), cmap='RdBu', norm=LogNorm())\n",
    "plt.title('summed_layers_before_ls')"
   ]
  },
  {
   "cell_type": "markdown",
   "id": "f13c9f39",
   "metadata": {},
   "source": [
    "### Outer part of FPM"
   ]
  },
  {
   "cell_type": "code",
   "execution_count": null,
   "id": "5adf0cd0",
   "metadata": {},
   "outputs": [],
   "source": [
    "# Butterworth filter in outer part of focal plane\n",
    "nbres_outer = dim / samp_outer\n",
    "sizebut_outer = dim / alpha * nbres[-1] / nbres_outer\n",
    "but_outer = 1 - butterworth_circle(dim, sizebut_outer, filter_order, xshift=-0.5, yshift=-0.5)\n",
    "display_complex(but_outer)\n",
    "\n",
    "print(nbres[-1])\n",
    "print(samp_outer)\n",
    "print(nbres_outer)"
   ]
  },
  {
   "cell_type": "code",
   "execution_count": null,
   "id": "686d9d9a",
   "metadata": {},
   "outputs": [],
   "source": [
    "# E-field before the FPM in outer part of focal plane    \n",
    "ef_pre_fpm_outer = mft(pup0 * phase_ramp, real_dim_input=dim, dim_output=dim, nbres=nbres_outer,\n",
    "                       inverse=False)\n",
    "display_complex(ef_pre_fpm_outer)"
   ]
  },
  {
   "cell_type": "code",
   "execution_count": null,
   "id": "72254434",
   "metadata": {},
   "outputs": [],
   "source": [
    "# E-field before the LS in outer part of focal plane\n",
    "ef_pre_ls_outer = mft(ef_pre_fpm_outer * fpm_z * but_outer, real_dim_input=dim, dim_output=dim, nbres=nbres_outer,\n",
    "                      inverse=True) * inverted_phase_ramp\n",
    "display_complex(ef_pre_ls_outer)"
   ]
  },
  {
   "cell_type": "code",
   "execution_count": null,
   "id": "a9636e0a",
   "metadata": {},
   "outputs": [],
   "source": [
    "np.max(np.abs(ef_pre_ls_outer)) / np.max(np.abs(summed_layers_before_ls))"
   ]
  },
  {
   "cell_type": "code",
   "execution_count": null,
   "id": "969b735f",
   "metadata": {},
   "outputs": [],
   "source": [
    "plt.imshow(np.abs(ef_pre_ls_outer)**2, cmap='inferno', norm=LogNorm())\n",
    "plt.colorbar()\n",
    "plt.title(\"Summed pre-LS E-field, only outermost layer\")"
   ]
  },
  {
   "cell_type": "code",
   "execution_count": null,
   "id": "0c178789",
   "metadata": {},
   "outputs": [],
   "source": [
    "# Total E-field before the LS\n",
    "psam_pre_ls_nb = summed_layers_before_ls + ef_pre_ls_outer\n",
    "display_complex(psam_pre_ls_nb)"
   ]
  },
  {
   "cell_type": "code",
   "execution_count": null,
   "id": "97fa851e",
   "metadata": {},
   "outputs": [],
   "source": [
    "plt.imshow(np.log10(np.abs(psam_pre_ls_nb)**2), cmap='inferno')#, norm=LogNorm())"
   ]
  },
  {
   "cell_type": "code",
   "execution_count": null,
   "id": "a59adb8e",
   "metadata": {},
   "outputs": [],
   "source": [
    "plt.figure(figsize=(16,8))\n",
    "plt.subplot(1,2,1)\n",
    "plt.imshow(np.log10(np.abs(psam_pre_ls_nb)))\n",
    "plt.title('Notebook')\n",
    "plt.subplot(1,2,2)\n",
    "plt.imshow(np.log10(np.abs(psam_pre_ls_builtin)))\n",
    "plt.title('Built-in function')\n",
    "\n",
    "print(np.sum(psam_pre_ls_nb))\n",
    "print(np.sum(psam_pre_ls_builtin))"
   ]
  },
  {
   "cell_type": "code",
   "execution_count": null,
   "id": "4706ddfb",
   "metadata": {},
   "outputs": [],
   "source": []
  },
  {
   "cell_type": "markdown",
   "id": "c16752d8",
   "metadata": {},
   "source": [
    "## Calc PSFs"
   ]
  },
  {
   "cell_type": "code",
   "execution_count": null,
   "id": "1d55988c",
   "metadata": {},
   "outputs": [],
   "source": [
    "#post_ls = psam_pre_ls_nb * lyot_stop\n",
    "post_ls = psam_pre_ls_builtin * lyot_stop\n",
    "\n",
    "display_complex(post_ls)\n",
    "plt.suptitle('E-field after LS')"
   ]
  },
  {
   "cell_type": "code",
   "execution_count": null,
   "id": "7b6fa91d",
   "metadata": {},
   "outputs": [],
   "source": [
    "lamD_psf = 4"
   ]
  },
  {
   "cell_type": "code",
   "execution_count": null,
   "id": "840ca978",
   "metadata": {},
   "outputs": [],
   "source": [
    "direct_ef = mft(pup*lyot_stop, real_dim_input=dim, dim_output=dim, nbres=dim/lamD_psf)\n",
    "direct_psf = np.abs(direct_ef)**2\n",
    "norm = direct_psf.max()\n",
    "print(f\"norm = {norm}\")\n",
    "\n",
    "plt.imshow(direct_psf / norm, cmap='inferno', norm=LogNorm())\n",
    "plt.title('Direct PSF')\n",
    "plt.colorbar()"
   ]
  },
  {
   "cell_type": "code",
   "execution_count": null,
   "id": "082a6c6a",
   "metadata": {},
   "outputs": [],
   "source": [
    "#coro_ef = mft(post_ls, real_dim_input=dim, dim_output=dim, nbres=dim/lamD_psf)\n",
    "coro_ef = mft(post_ls, real_dim_input=400, dim_output=400, nbres=64)\n",
    "coro_psf = np.abs(coro_ef)**2\n",
    "\n",
    "plt.imshow(coro_psf / norm, cmap='inferno', norm=LogNorm())\n",
    "plt.title('Coronagraphic PSF')\n",
    "plt.colorbar()"
   ]
  },
  {
   "cell_type": "code",
   "execution_count": null,
   "id": "82b5ddfb",
   "metadata": {},
   "outputs": [],
   "source": [
    "plt.imshow(coro_psf[100:410, 100:410] / norm, cmap='inferno', norm=LogNorm())\n",
    "#plt.imshow(coro_psf[200:310, 200:310] / norm, cmap='inferno', norm=LogNorm())\n",
    "plt.title('Coronagraphic PSF')\n",
    "plt.colorbar()"
   ]
  },
  {
   "cell_type": "code",
   "execution_count": null,
   "id": "3f0e3af9",
   "metadata": {},
   "outputs": [],
   "source": [
    "np.max(coro_psf / norm)"
   ]
  },
  {
   "cell_type": "markdown",
   "id": "ed483737",
   "metadata": {},
   "source": [
    "## Improving on the residual energy - testing"
   ]
  },
  {
   "cell_type": "code",
   "execution_count": null,
   "id": "694bf454",
   "metadata": {},
   "outputs": [],
   "source": [
    "dim = 400\n",
    "rad = dim / 2\n",
    "samp_outer = 2\n",
    "\n",
    "pup = paf.roundpupil(dim, rad, grey_pup_bin_factor=10)\n",
    "lyot_stop = paf.roundpupil(dim, rad * 0.95)\n",
    "fpm = fqpm_mask(dim)\n",
    "\n",
    "res_list = np.array([0.1, 1, 10, 100])\n",
    "pre_ls_areas = prop_fpm_regional_sampling(pup, np.exp(1j * fpm), nbrs_list)\n",
    "post_ls_areas = pre_ls_areas * lyot_stop\n",
    "\n",
    "nbres_direct = dim / samp_outer\n",
    "pre_fpm = mft(pup, real_dim_input=dim, dim_output=dim, nbres=nbres_direct)\n",
    "post_fpm = pre_fpm * np.exp(1j * fpm)\n",
    "pre_ls_direct = mft(post_fpm, real_dim_input=dim, dim_output=dim, nbres=nbres_direct, inverse=True)\n",
    "post_ls_direct = pre_ls_direct * lyot_stop"
   ]
  },
  {
   "cell_type": "code",
   "execution_count": null,
   "id": "ece27367",
   "metadata": {},
   "outputs": [],
   "source": [
    "direct_ef = mft(pup*lyot_stop, real_dim_input=dim, dim_output=dim, nbres=nbres_direct)\n",
    "direct_psf = np.abs(direct_ef)**2\n",
    "norm = direct_psf.max()"
   ]
  },
  {
   "cell_type": "code",
   "execution_count": null,
   "id": "b59dce03",
   "metadata": {},
   "outputs": [],
   "source": [
    "plt.figure(figsize=(16,8))\n",
    "plt.subplot(1,2,1)\n",
    "plt.imshow(np.abs(post_ls_areas), cmap='inferno', norm=LogNorm())\n",
    "plt.colorbar()\n",
    "plt.subplot(1,2,2)\n",
    "plt.imshow(np.abs(post_ls_direct), cmap='inferno', norm=LogNorm())\n",
    "plt.colorbar()"
   ]
  },
  {
   "cell_type": "code",
   "execution_count": null,
   "id": "c0e970ef",
   "metadata": {},
   "outputs": [],
   "source": [
    "print(np.sum(np.abs(post_ls_areas)**2))\n",
    "print(np.sum(np.abs(post_ls_direct)**2))"
   ]
  },
  {
   "cell_type": "code",
   "execution_count": null,
   "id": "2ab17365",
   "metadata": {},
   "outputs": [],
   "source": [
    "coro_ef_areas = mft(post_ls_areas, real_dim_input=dim, dim_output=dim, nbres=nbres_direct)\n",
    "coro_psf_areas = np.abs(coro_ef_areas) ** 2 / norm"
   ]
  },
  {
   "cell_type": "code",
   "execution_count": null,
   "id": "de2c6397",
   "metadata": {},
   "outputs": [],
   "source": [
    "coro_ef_direct = mft(post_ls_direct, real_dim_input=dim, dim_output=dim, nbres=nbres_direct)\n",
    "coro_psf_direct = np.abs(coro_ef_direct) ** 2 / norm"
   ]
  },
  {
   "cell_type": "code",
   "execution_count": null,
   "id": "c76136b7",
   "metadata": {},
   "outputs": [],
   "source": [
    "plt.figure(figsize=(16,8))\n",
    "plt.subplot(1,2,1)\n",
    "plt.imshow(coro_psf_areas, cmap='inferno', norm=LogNorm())\n",
    "plt.colorbar()\n",
    "plt.subplot(1,2,2)\n",
    "plt.imshow(coro_psf_direct, cmap='inferno', norm=LogNorm())\n",
    "plt.colorbar()"
   ]
  },
  {
   "cell_type": "code",
   "execution_count": null,
   "id": "2c01a79f",
   "metadata": {},
   "outputs": [],
   "source": [
    "assert (np.max(coro_psf_direct) / np.max(coro_psf_areas)) > 1e4"
   ]
  },
  {
   "cell_type": "code",
   "execution_count": null,
   "id": "f59ea774",
   "metadata": {},
   "outputs": [],
   "source": []
  },
  {
   "cell_type": "code",
   "execution_count": null,
   "id": "20095b7a",
   "metadata": {},
   "outputs": [],
   "source": []
  }
 ],
 "metadata": {
  "kernelspec": {
   "display_name": "Python 3 (ipykernel)",
   "language": "python",
   "name": "python3"
  },
  "language_info": {
   "codemirror_mode": {
    "name": "ipython",
    "version": 3
   },
   "file_extension": ".py",
   "mimetype": "text/x-python",
   "name": "python",
   "nbconvert_exporter": "python",
   "pygments_lexer": "ipython3",
   "version": "3.11.0 | packaged by conda-forge | (main, Oct 25 2022, 06:24:51) [Clang 14.0.4 ]"
  },
  "vscode": {
   "interpreter": {
    "hash": "1338b55606ec1e08a9e291475375b3c9e1af96330f4ccc0af3c2c9244b890415"
   }
  }
 },
 "nbformat": 4,
 "nbformat_minor": 5
}
