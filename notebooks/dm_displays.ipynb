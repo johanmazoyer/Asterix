{
 "cells": [
  {
   "cell_type": "markdown",
   "id": "2c1b2eea",
   "metadata": {},
   "source": [
    "# DM displays"
   ]
  },
  {
   "cell_type": "code",
   "execution_count": null,
   "id": "ca765a14",
   "metadata": {},
   "outputs": [],
   "source": [
    "# Imports\n",
    "%matplotlib inline\n",
    "import os\n",
    "from astropy.io import fits\n",
    "import matplotlib as mpl\n",
    "from matplotlib.colors import LinearSegmentedColormap, LogNorm, TwoSlopeNorm\n",
    "import matplotlib.pyplot as plt\n",
    "import numpy as np\n",
    "\n",
    "from Asterix import Asterix_root\n",
    "from Asterix.utils import get_data_dir, read_parameter_file\n",
    "from Asterix.optics import Pupil, Coronagraph, DeformableMirror, Testbed\n",
    "from Asterix.main_THD import THD2"
   ]
  },
  {
   "cell_type": "code",
   "execution_count": null,
   "id": "ad024479",
   "metadata": {},
   "outputs": [],
   "source": [
    "# Some setup for pretty plotting\n",
    "mpl.rc('image', origin='lower',   # Put the origin in the lower left corner.\n",
    "       interpolation=None)        # Do not interpolate between pixels in the display.\n",
    "\n",
    "cenm = TwoSlopeNorm(vcenter=0)    # Create normalization where 0 is always the center of your cmap"
   ]
  },
  {
   "cell_type": "code",
   "execution_count": null,
   "id": "1ca8bdaf",
   "metadata": {},
   "outputs": [],
   "source": [
    "# Some functions for colormap setting\n",
    "# Source: https://towardsdatascience.com/beautiful-custom-colormaps-with-matplotlib-5bab3d1f0e72\n",
    "def hex_to_rgb(value):\n",
    "    '''\n",
    "    Converts hex to rgb colours\n",
    "    value: string of 6 characters representing a hex colour.\n",
    "    Returns: list length 3 of RGB values'''\n",
    "    value = value.strip(\"#\") # removes hash symbol if present\n",
    "    lv = len(value)\n",
    "    return tuple(int(value[i:i + lv // 3], 16) for i in range(0, lv, lv // 3))\n",
    "\n",
    "\n",
    "def rgb_to_dec(value):\n",
    "    '''\n",
    "    Converts rgb to decimal colours (i.e. divides each value by 256)\n",
    "    value: list (length 3) of RGB values\n",
    "    Returns: list (length 3) of decimal values'''\n",
    "    return [v/256 for v in value]\n",
    "\n",
    "\n",
    "def get_continuous_cmap(hex_list, float_list=None):\n",
    "    ''' creates and returns a color map that can be used in heat map figures.\n",
    "        If float_list is not provided, colour map graduates linearly between each color in hex_list.\n",
    "        If float_list is provided, each color in hex_list is mapped to the respective location in float_list. \n",
    "        \n",
    "        Parameters\n",
    "        ----------\n",
    "        hex_list: list of hex code strings\n",
    "        float_list: list of floats between 0 and 1, same length as hex_list. Must start with 0 and end with 1.\n",
    "        \n",
    "        Returns\n",
    "        ----------\n",
    "        colour map'''\n",
    "    rgb_list = [rgb_to_dec(hex_to_rgb(i)) for i in hex_list]\n",
    "    if float_list:\n",
    "        pass\n",
    "    else:\n",
    "        float_list = list(np.linspace(0,1,len(rgb_list)))\n",
    "        \n",
    "    cdict = dict()\n",
    "    for num, col in enumerate(['red', 'green', 'blue']):\n",
    "        col_list = [[float_list[i], rgb_list[i][num], rgb_list[i][num]] for i in range(len(float_list))]\n",
    "        cdict[col] = col_list\n",
    "    cmp = LinearSegmentedColormap('my_cmp', segmentdata=cdict, N=256)\n",
    "    return cmp\n",
    "\n",
    "\n",
    "hex_list = ['#020202', '#00ca00', '#cf00b6', '#bde892', '#1700ee', '#f7a3e1', '#373f50', '#fdfdfb']"
   ]
  },
  {
   "cell_type": "code",
   "execution_count": null,
   "id": "a23911a8",
   "metadata": {},
   "outputs": [],
   "source": [
    "# Create testbed instance\n",
    "parameter_file_ex = os.path.join(Asterix_root, \"Example_param_file.ini\")\n",
    "config = read_parameter_file(parameter_file_ex)\n",
    "model_dir = os.path.join(get_data_dir(), \"Model_local\")\n",
    "\n",
    "thd2 = THD2(config, model_dir)"
   ]
  },
  {
   "cell_type": "code",
   "execution_count": null,
   "id": "05f9b390",
   "metadata": {},
   "outputs": [],
   "source": [
    "print(\"####################################\")\n",
    "print(f\"# Coronagraph used: {thd2.corono.corona_type}\")\n",
    "print(f\"# Wavelength: {thd2.wavelength_0} m = {thd2.wavelength_0 * 1e9} nm\")\n",
    "print(\"####################################\")"
   ]
  },
  {
   "cell_type": "code",
   "execution_count": null,
   "id": "d521a313",
   "metadata": {},
   "outputs": [],
   "source": [
    "print(type(thd2.DM3.DM_pushact))\n",
    "print(thd2.DM3.DM_pushact.shape)\n",
    "dm3 = np.sum(thd2.DM3.DM_pushact, axis=0)\n",
    "print(dm3.shape)"
   ]
  },
  {
   "cell_type": "code",
   "execution_count": null,
   "id": "5ca2f9d2",
   "metadata": {},
   "outputs": [],
   "source": [
    "plt.figure(figsize=(9, 9))\n",
    "plt.imshow(dm3, cmap='inferno')\n",
    "plt.title('All actuators on DM3', size=20)\n",
    "plt.colorbar()"
   ]
  },
  {
   "cell_type": "code",
   "execution_count": null,
   "id": "de164291",
   "metadata": {},
   "outputs": [],
   "source": [
    "print(type(thd2.entrancepupil))\n",
    "print(type(thd2.entrancepupil.pup))\n",
    "pup = thd2.entrancepupil.pup\n",
    "print(pup.shape)"
   ]
  },
  {
   "cell_type": "code",
   "execution_count": null,
   "id": "533a0710",
   "metadata": {},
   "outputs": [],
   "source": [
    "plt.imshow(pup, cmap='Greys_r')\n",
    "plt.title('Pupil mask', size=20)\n",
    "plt.colorbar()"
   ]
  },
  {
   "cell_type": "code",
   "execution_count": null,
   "id": "012adcce",
   "metadata": {},
   "outputs": [],
   "source": [
    "# Apologies for the colormap, I tried making it as hidious as possible to be able to see all details\n",
    "plt.figure(figsize=(9, 9))\n",
    "plt.title('Pupil mask overlaid on DM3')\n",
    "plt.imshow(dm3, cmap=get_continuous_cmap(hex_list, float_list=[0, 0.05, 0.1, 0.92, 0.94, 0.96, 0.98, 1]))\n",
    "plt.colorbar()\n",
    "plt.imshow(pup, cmap='Greys_r', alpha=0.5)"
   ]
  },
  {
   "cell_type": "code",
   "execution_count": null,
   "id": "3164c1d8",
   "metadata": {},
   "outputs": [],
   "source": [
    "# Zoom in\n",
    "cen = int(pup.shape[0] / 2)\n",
    "bbox = 60\n",
    "\n",
    "plt.figure(figsize=(9, 9))\n",
    "plt.title('Pupil mask overlaid on DM3')\n",
    "plt.imshow(dm3[cen-bbox:cen+bbox, cen-bbox:cen+bbox], cmap=get_continuous_cmap(hex_list, float_list=[0, 0.05, 0.1, 0.92, 0.94, 0.96, 0.98, 1]))\n",
    "plt.colorbar()\n",
    "plt.imshow(pup[cen-bbox:cen+bbox, cen-bbox:cen+bbox], cmap='Greys_r', alpha=0.5)"
   ]
  },
  {
   "cell_type": "code",
   "execution_count": null,
   "id": "98c4ef21",
   "metadata": {},
   "outputs": [],
   "source": [
    "# Pick only one actuator\n",
    "act = 48\n",
    "\n",
    "cen = int(pup.shape[0] / 2)\n",
    "bbox = 60\n",
    "\n",
    "plt.figure(figsize=(9, 9))\n",
    "plt.title('Pupil mask overlaid on DM3')\n",
    "plt.imshow(thd2.DM3.DM_pushact[act][cen-bbox:cen+bbox, cen-bbox:cen+bbox], cmap=get_continuous_cmap(hex_list, float_list=[0, 0.05, 0.1, 0.92, 0.94, 0.96, 0.98, 1]))\n",
    "plt.colorbar()\n",
    "plt.imshow(pup[cen-bbox:cen+bbox, cen-bbox:cen+bbox], cmap='Greys_r', alpha=0.5)"
   ]
  },
  {
   "cell_type": "code",
   "execution_count": null,
   "id": "e212b6ca",
   "metadata": {},
   "outputs": [],
   "source": []
  }
 ],
 "metadata": {
  "kernelspec": {
   "display_name": "Python 3 (ipykernel)",
   "language": "python",
   "name": "python3"
  },
  "language_info": {
   "codemirror_mode": {
    "name": "ipython",
    "version": 3
   },
   "file_extension": ".py",
   "mimetype": "text/x-python",
   "name": "python",
   "nbconvert_exporter": "python",
   "pygments_lexer": "ipython3",
   "version": "3.8.13"
  }
 },
 "nbformat": 4,
 "nbformat_minor": 5
}
