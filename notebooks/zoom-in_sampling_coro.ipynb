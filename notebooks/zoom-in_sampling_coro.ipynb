{
 "cells": [
  {
   "cell_type": "markdown",
   "id": "3c332f00",
   "metadata": {},
   "source": [
    "# Zoom-in sampling of coro"
   ]
  },
  {
   "cell_type": "code",
   "execution_count": null,
   "id": "a7d5c068",
   "metadata": {},
   "outputs": [],
   "source": [
    "import os\n",
    "from matplotlib.colors import LogNorm\n",
    "import matplotlib.pyplot as plt\n",
    "import numpy as np\n",
    "%matplotlib inline\n",
    "\n",
    "from Asterix.optics import butterworth_circle, fqpm_mask, mft, prop_fpm_regional_sampling, fft_choosecenter\n",
    "from Asterix.optics import phase_amplitude_functions as paf\n",
    "from Asterix.utils.plotting import display_complex"
   ]
  },
  {
   "cell_type": "markdown",
   "id": "3f81ff59",
   "metadata": {},
   "source": [
    "## Set up inputs"
   ]
  },
  {
   "cell_type": "code",
   "execution_count": null,
   "id": "a68cabbf",
   "metadata": {},
   "outputs": [],
   "source": [
    "dim = 512\n",
    "ray = dim / 2\n",
    "\n",
    "res_list = np.array([0.1, 1, 10, 100])"
   ]
  },
  {
   "cell_type": "code",
   "execution_count": null,
   "id": "ff860ec2",
   "metadata": {},
   "outputs": [],
   "source": [
    "pup = paf.roundpupil(dim, ray, grey_pup_bin_factor=10)\n",
    "lyot_stop = paf.roundpupil(dim, ray*0.95)\n",
    "\n",
    "plt.figure(figsize=(16,8))\n",
    "plt.subplot(1,2,1)\n",
    "plt.imshow(pup, origin='lower', cmap='Greys_r')\n",
    "plt.title('Grey pupil')\n",
    "plt.colorbar()\n",
    "plt.subplot(1,2,2)\n",
    "plt.imshow(lyot_stop, origin='lower', cmap='Greys_r')\n",
    "plt.title('Lyot stop')\n",
    "plt.colorbar()"
   ]
  },
  {
   "cell_type": "code",
   "execution_count": null,
   "id": "7b0c334d",
   "metadata": {},
   "outputs": [],
   "source": [
    "fpm = fqpm_mask(pup.shape[0])\n",
    "\n",
    "plt.imshow(fpm, origin='lower', cmap='Reds')\n",
    "plt.title('Phase')\n",
    "plt.colorbar()"
   ]
  },
  {
   "cell_type": "markdown",
   "id": "355cde8b",
   "metadata": {},
   "source": [
    "## Test built-in function"
   ]
  },
  {
   "cell_type": "code",
   "execution_count": null,
   "id": "7eaeba71",
   "metadata": {},
   "outputs": [],
   "source": [
    "psam_pre_ls = prop_fpm_regional_sampling(pup, np.exp(1j*fpm), nbres=res_list, samp_outer=4)\n",
    "\n",
    "display_complex(psam_pre_ls)\n",
    "plt.suptitle('Pre-LS E-field')"
   ]
  },
  {
   "cell_type": "code",
   "execution_count": null,
   "id": "7d6c8889",
   "metadata": {},
   "outputs": [],
   "source": [
    "plt.imshow(np.abs(psam_pre_ls)**2, origin='lower', cmap='inferno', norm=LogNorm())"
   ]
  },
  {
   "cell_type": "code",
   "execution_count": null,
   "id": "f22cb6c3",
   "metadata": {},
   "outputs": [],
   "source": [
    "this = mft(psam_pre_ls, 512, 512, 64)"
   ]
  },
  {
   "cell_type": "code",
   "execution_count": null,
   "id": "ae809443",
   "metadata": {},
   "outputs": [],
   "source": [
    "plt.imshow(np.abs(this)**2, origin='lower', cmap='inferno', norm=LogNorm())"
   ]
  },
  {
   "cell_type": "code",
   "execution_count": null,
   "id": "00adb671",
   "metadata": {},
   "outputs": [],
   "source": []
  },
  {
   "cell_type": "code",
   "execution_count": null,
   "id": "f3cd44fc",
   "metadata": {},
   "outputs": [],
   "source": []
  },
  {
   "cell_type": "markdown",
   "id": "30cf9634",
   "metadata": {},
   "source": [
    "## Break up function"
   ]
  },
  {
   "cell_type": "code",
   "execution_count": null,
   "id": "457b9de4",
   "metadata": {},
   "outputs": [],
   "source": [
    "dim = pup.shape[0]\n",
    "\n",
    "fpm_z = np.exp(1j*fpm)\n",
    "nbres = np.array([0.1,1,2,5], dtype=float)\n",
    "samp_outer = 2\n",
    "filter_order = 15\n",
    "alpha = 1.5"
   ]
  },
  {
   "cell_type": "markdown",
   "id": "3f072484",
   "metadata": {},
   "source": [
    "### Inner part of FPM"
   ]
  },
  {
   "cell_type": "code",
   "execution_count": null,
   "id": "c9c2fc30",
   "metadata": {},
   "outputs": [],
   "source": [
    "# Butterworth filter\n",
    "but0 = butterworth_circle(dim, dim / alpha, filter_order, -0.5, -0.5)\n",
    "display_complex(but0)"
   ]
  },
  {
   "cell_type": "code",
   "execution_count": null,
   "id": "28680db4",
   "metadata": {},
   "outputs": [],
   "source": [
    "# E-field before the FPM in inner part of focal plane\n",
    "efield_before_fpm = mft(pup, real_dim_input=dim, dim_output=dim, nbres=nbres[0])\n",
    "display_complex(efield_before_fpm)"
   ]
  },
  {
   "cell_type": "code",
   "execution_count": null,
   "id": "0c121025",
   "metadata": {},
   "outputs": [],
   "source": [
    "# Total E-field before the LS\n",
    "efield_before_ls = mft(efield_before_fpm * fpm_z * but0, real_dim_input=dim, dim_output=dim, nbres=nbres[0],\n",
    "                       inverse=True)\n",
    "display_complex(efield_before_ls)"
   ]
  },
  {
   "cell_type": "code",
   "execution_count": null,
   "id": "897c2f04",
   "metadata": {},
   "outputs": [],
   "source": [
    "plt.imshow(np.abs(efield_before_ls)**2, origin='lower', cmap='inferno', norm=LogNorm())\n",
    "plt.colorbar()"
   ]
  },
  {
   "cell_type": "markdown",
   "id": "0746ca31",
   "metadata": {},
   "source": [
    "### Layers of FPM sampling"
   ]
  },
  {
   "cell_type": "code",
   "execution_count": null,
   "id": "098f23cf",
   "metadata": {},
   "outputs": [],
   "source": [
    "but_list = []\n",
    "pre_fpm_list = []\n",
    "pre_ls_list = []"
   ]
  },
  {
   "cell_type": "code",
   "execution_count": null,
   "id": "dd29342f",
   "metadata": {},
   "outputs": [],
   "source": [
    "const_but = butterworth_circle(dim, dim / alpha, filter_order, xshift=-0.5, yshift=-0.5)\n",
    "\n",
    "for k in range(nbres.shape[0] - 1):\n",
    "    print(k)\n",
    "    # Butterworth filter in each layer\n",
    "    sizebut_here = dim / alpha * nbres[k] / nbres[k + 1]\n",
    "    but = (1 - butterworth_circle(dim, sizebut_here, filter_order, xshift=-0.5, yshift=-0.5)) * const_but\n",
    "    but_list.append(but)\n",
    "    \n",
    "    # E-field before the FPM in each layer\n",
    "    ef_pre_fpm = mft(pup, real_dim_input=dim, dim_output=dim, nbres=nbres[k + 1])\n",
    "    pre_fpm_list.append(ef_pre_fpm)\n",
    "\n",
    "    # E-field before the LS in each layer\n",
    "    ef_pre_ls = mft(ef_pre_fpm * fpm_z * but, real_dim_input=dim, dim_output=dim, nbres=nbres[k + 1],\n",
    "                    inverse=True)\n",
    "    pre_ls_list.append(ef_pre_ls)"
   ]
  },
  {
   "cell_type": "code",
   "execution_count": null,
   "id": "14dc5e8a",
   "metadata": {},
   "outputs": [],
   "source": [
    "# Plot all filters\n",
    "plt.figure(figsize=(15,7))\n",
    "for k in range(3):\n",
    "    plt.subplot(2,3,k+1)\n",
    "    plt.imshow(np.abs(but_list[k])**2, origin='lower', cmap='Greys_r')\n",
    "    plt.colorbar()\n",
    "    plt.title(f\"Intensity, k={k}\")\n",
    "    plt.subplot(2,3,k+4)\n",
    "    plt.imshow(np.angle(but_list[k]), origin='lower', cmap='RdBu')\n",
    "    plt.colorbar()\n",
    "    plt.title(f\"Phase, k={k}\")"
   ]
  },
  {
   "cell_type": "code",
   "execution_count": null,
   "id": "c6c0ad09",
   "metadata": {},
   "outputs": [],
   "source": [
    "print(dim / samp_outer)\n",
    "that0 = mft(but_list[0], 512, 512, 256)\n",
    "that1 = mft(but_list[1], 512, 512, 256)\n",
    "that2 = mft(but_list[2], 512, 512, 256)"
   ]
  },
  {
   "cell_type": "code",
   "execution_count": null,
   "id": "16523bae",
   "metadata": {},
   "outputs": [],
   "source": [
    "plt.imshow(np.abs(that0)**2, origin='lower', cmap='inferno', norm=LogNorm())"
   ]
  },
  {
   "cell_type": "markdown",
   "id": "af4a7e28",
   "metadata": {},
   "source": [
    "The filters are supposed to be the same. But the sampling will same when applied, so that the E-field won't be the same. The ratio between the elements of `nbres` used is the same."
   ]
  },
  {
   "cell_type": "code",
   "execution_count": null,
   "id": "ce5d514c",
   "metadata": {},
   "outputs": [],
   "source": [
    "# Plot all E-fields before the FPM\n",
    "plt.figure(figsize=(15,7))\n",
    "for k in range(3):\n",
    "    plt.subplot(2,3,k+1)\n",
    "    plt.imshow(np.abs(pre_fpm_list[k])**2, origin='lower', cmap='inferno')\n",
    "    plt.colorbar()\n",
    "    plt.title(f\"Intensity, k={k}\")\n",
    "    plt.subplot(2,3,k+4)\n",
    "    plt.imshow(np.angle(pre_fpm_list[k]), origin='lower', cmap='RdBu')\n",
    "    plt.colorbar()\n",
    "    plt.title(f\"Phase, k={k}\")"
   ]
  },
  {
   "cell_type": "code",
   "execution_count": null,
   "id": "8c10f9ba",
   "metadata": {},
   "outputs": [],
   "source": [
    "# Plot filter over pre-FPM PSF\n",
    "n = 0\n",
    "plt.imshow(np.abs(but_list[n] * pre_fpm_list[n])**2, origin='lower', cmap='inferno', norm=LogNorm())\n",
    "plt.colorbar()"
   ]
  },
  {
   "cell_type": "code",
   "execution_count": null,
   "id": "ca0786ed",
   "metadata": {},
   "outputs": [],
   "source": [
    "# Plot all E-fields before the LS\n",
    "plt.figure(figsize=(15,7))\n",
    "for k in range(3):\n",
    "    plt.subplot(2,3,k+1)\n",
    "    plt.imshow(np.abs(pre_ls_list[k])**2, origin='lower', cmap='inferno', norm=LogNorm())\n",
    "    plt.colorbar()\n",
    "    plt.title(f\"Intensity, k={k}\")\n",
    "    plt.subplot(2,3,k+4)\n",
    "    plt.imshow(np.angle(pre_ls_list[k]), origin='lower', cmap='RdBu')\n",
    "    plt.colorbar()\n",
    "    plt.title(f\"Phase, k={k}\")"
   ]
  },
  {
   "cell_type": "code",
   "execution_count": null,
   "id": "fdc86a75",
   "metadata": {},
   "outputs": [],
   "source": [
    "# Plot all E-fields before the LS\n",
    "plt.figure(figsize=(15,7))\n",
    "for k in range(3):\n",
    "    plt.subplot(2,3,k+1)\n",
    "    plt.imshow(np.abs(pre_ls_list[k]), origin='lower', cmap='inferno')\n",
    "    plt.colorbar()\n",
    "    plt.title(f\"Absolute value, k={k}\")\n",
    "    plt.subplot(2,3,k+4)\n",
    "    plt.imshow(np.real(pre_ls_list[k]), origin='lower', cmap='inferno')\n",
    "    plt.colorbar()\n",
    "    plt.title(f\"Real part, k={k}\")"
   ]
  },
  {
   "cell_type": "code",
   "execution_count": null,
   "id": "b1257e10",
   "metadata": {},
   "outputs": [],
   "source": [
    "# Total E-field before the LS\n",
    "summed_layers_before_ls = efield_before_ls + np.sum(np.array(pre_ls_list), axis=0)\n",
    "display_complex(summed_layers_before_ls)\n",
    "plt.suptitle(\"Summed pre-LS E-field, through all layers (except outermost)\")"
   ]
  },
  {
   "cell_type": "code",
   "execution_count": null,
   "id": "99c3569a",
   "metadata": {},
   "outputs": [],
   "source": [
    "plt.imshow(np.abs(summed_layers_before_ls)**2, origin='lower', cmap='inferno', norm=LogNorm())\n",
    "plt.colorbar()\n",
    "plt.title(\"SUmmed layers before LS (includes inner part)\")"
   ]
  },
  {
   "cell_type": "code",
   "execution_count": null,
   "id": "44aacd69",
   "metadata": {},
   "outputs": [],
   "source": [
    "plt.figure(figsize=(16,8))\n",
    "\n",
    "plt.subplot(2,6,1)\n",
    "plt.imshow(np.abs(efield_before_ls)**2, cmap='inferno', origin='lower', norm=LogNorm())\n",
    "plt.title('efield_before_ls')\n",
    "\n",
    "plt.subplot(2,6,2)\n",
    "plt.imshow(np.abs(pre_ls_list[0])**2, cmap='inferno', origin='lower', norm=LogNorm())\n",
    "plt.title('pre_ls_list[0]')\n",
    "\n",
    "plt.subplot(2,6,3)\n",
    "plt.imshow(np.abs(pre_ls_list[1])**2, cmap='inferno', origin='lower', norm=LogNorm())\n",
    "plt.title('pre_ls_list[1]')\n",
    "\n",
    "plt.subplot(2,6,4)\n",
    "plt.imshow(np.abs(pre_ls_list[2])**2, cmap='inferno', origin='lower', norm=LogNorm())\n",
    "plt.title('pre_ls_list[2]')\n",
    "\n",
    "plt.subplot(2,6,5)\n",
    "plt.imshow(np.abs(np.sum(np.array(pre_ls_list), axis=0))**2, cmap='inferno', origin='lower', norm=LogNorm())\n",
    "plt.title('np.sum(np.array(pre_ls_list), axis=0)')\n",
    "\n",
    "plt.subplot(2,6,6)\n",
    "plt.imshow(np.abs(summed_layers_before_ls)**2, cmap='inferno', origin='lower', norm=LogNorm())\n",
    "plt.title('summed_layers_before_ls')\n",
    "\n",
    "plt.subplot(2,6,7)\n",
    "plt.imshow(np.angle(efield_before_ls), cmap='RdBu', origin='lower', norm=LogNorm())\n",
    "plt.title('efield_before_ls')\n",
    "\n",
    "plt.subplot(2,6,8)\n",
    "plt.imshow(np.angle(pre_ls_list[0]), cmap='RdBu', origin='lower', norm=LogNorm())\n",
    "plt.title('pre_ls_list[0]')\n",
    "\n",
    "plt.subplot(2,6,9)\n",
    "plt.imshow(np.angle(pre_ls_list[1]), cmap='RdBu', origin='lower', norm=LogNorm())\n",
    "plt.title('pre_ls_list[1]')\n",
    "\n",
    "plt.subplot(2,6,10)\n",
    "plt.imshow(np.angle(pre_ls_list[2]), cmap='RdBu', origin='lower', norm=LogNorm())\n",
    "plt.title('pre_ls_list[2]')\n",
    "\n",
    "plt.subplot(2,6,11)\n",
    "plt.imshow(np.angle(np.sum(np.array(pre_ls_list), axis=0)), cmap='RdBu', origin='lower', norm=LogNorm())\n",
    "plt.title('np.sum(np.array(pre_ls_list), axis=0)')\n",
    "\n",
    "plt.subplot(2,6,12)\n",
    "plt.imshow(np.angle(summed_layers_before_ls), cmap='RdBu', origin='lower', norm=LogNorm())\n",
    "plt.title('summed_layers_before_ls')"
   ]
  },
  {
   "cell_type": "markdown",
   "id": "f13c9f39",
   "metadata": {},
   "source": [
    "### Outer part of FPM"
   ]
  },
  {
   "cell_type": "code",
   "execution_count": null,
   "id": "5adf0cd0",
   "metadata": {},
   "outputs": [],
   "source": [
    "# Butterworth filter in outer part of focal plane\n",
    "nbres_outer = dim / samp_outer\n",
    "sizebut_outer = dim / alpha * nbres[-1] / nbres_outer\n",
    "but_outer = 1 - butterworth_circle(dim, sizebut_outer, filter_order, xshift=-0.5, yshift=-0.5)\n",
    "display_complex(but_outer)"
   ]
  },
  {
   "cell_type": "code",
   "execution_count": null,
   "id": "686d9d9a",
   "metadata": {},
   "outputs": [],
   "source": [
    "# E-field before the FPM in outer part of focal plane\n",
    "ef_pre_fpm_outer = mft(pup, real_dim_input=dim, dim_output=dim, nbres=nbres_outer, inverse=True)\n",
    "display_complex(ef_pre_fpm_outer)"
   ]
  },
  {
   "cell_type": "code",
   "execution_count": null,
   "id": "72254434",
   "metadata": {},
   "outputs": [],
   "source": [
    "# E-field before the LS in outer part of focal plane\n",
    "ef_pre_ls_outer = mft(ef_pre_fpm_outer * fpm_z * but_outer, real_dim_input=dim, dim_output=dim, nbres=nbres_outer,\n",
    "                      inverse=True)\n",
    "display_complex(ef_pre_ls_outer)"
   ]
  },
  {
   "cell_type": "code",
   "execution_count": null,
   "id": "0c178789",
   "metadata": {},
   "outputs": [],
   "source": [
    "# Total E-field before the LS\n",
    "psam_pre_ls = summed_layers_before_ls + ef_pre_ls_outer\n",
    "display_complex(psam_pre_ls)"
   ]
  },
  {
   "cell_type": "code",
   "execution_count": null,
   "id": "97fa851e",
   "metadata": {},
   "outputs": [],
   "source": [
    "plt.imshow(np.abs(psam_pre_ls)**2, origin='lower', cmap='inferno', norm=LogNorm())"
   ]
  },
  {
   "cell_type": "markdown",
   "id": "c16752d8",
   "metadata": {},
   "source": [
    "## Calc PSFs"
   ]
  },
  {
   "cell_type": "code",
   "execution_count": null,
   "id": "1d55988c",
   "metadata": {},
   "outputs": [],
   "source": [
    "post_ls = psam_pre_ls * lyot_stop\n",
    "\n",
    "display_complex(post_ls)\n",
    "plt.suptitle('E-field after LS')"
   ]
  },
  {
   "cell_type": "code",
   "execution_count": null,
   "id": "7b6fa91d",
   "metadata": {},
   "outputs": [],
   "source": [
    "lamD_psf = 4"
   ]
  },
  {
   "cell_type": "code",
   "execution_count": null,
   "id": "840ca978",
   "metadata": {},
   "outputs": [],
   "source": [
    "direct_ef = mft(pup*lyot_stop, real_dim_input=dim, dim_output=dim, nbres=dim/lamD_psf)\n",
    "direct_psf = np.abs(direct_ef)**2\n",
    "norm = direct_psf.max()\n",
    "\n",
    "plt.imshow(direct_psf / norm, origin='lower', cmap='inferno', norm=LogNorm())\n",
    "plt.title('Direct PSF')\n",
    "plt.colorbar()"
   ]
  },
  {
   "cell_type": "code",
   "execution_count": null,
   "id": "082a6c6a",
   "metadata": {},
   "outputs": [],
   "source": [
    "coro_ef = mft(post_ls, real_dim_input=dim, dim_output=dim, nbres=dim/lamD_psf)\n",
    "coro_psf = np.abs(coro_ef)**2\n",
    "\n",
    "plt.imshow(coro_psf / norm, origin='lower', cmap='inferno', norm=LogNorm())\n",
    "plt.title('Coronagraphic PSF')\n",
    "plt.colorbar()"
   ]
  },
  {
   "cell_type": "code",
   "execution_count": null,
   "id": "82b5ddfb",
   "metadata": {},
   "outputs": [],
   "source": [
    "#plt.imshow(coro_psf[100:410, 100:410] / norm, origin='lower', cmap='inferno', norm=LogNorm())\n",
    "plt.imshow(coro_psf[200:310, 200:310] / norm, origin='lower', cmap='inferno', norm=LogNorm())\n",
    "plt.title('Coronagraphic PSF')\n",
    "plt.colorbar()"
   ]
  },
  {
   "cell_type": "code",
   "execution_count": null,
   "id": "3f0e3af9",
   "metadata": {},
   "outputs": [],
   "source": []
  },
  {
   "cell_type": "markdown",
   "id": "ed483737",
   "metadata": {},
   "source": [
    "## Improving on the residual energy - testing"
   ]
  },
  {
   "cell_type": "code",
   "execution_count": null,
   "id": "694bf454",
   "metadata": {},
   "outputs": [],
   "source": [
    "dim = 512\n",
    "rad = dim / 2\n",
    "samp_outer = 4\n",
    "\n",
    "pup = paf.roundpupil(dim, rad, grey_pup_bin_factor=10)\n",
    "lyot_stop = paf.roundpupil(dim, rad * 0.95)\n",
    "fpm = fqpm_mask(dim)\n",
    "\n",
    "res_list = np.array([0.1, 1, 10, 100])\n",
    "pre_ls_areas = prop_fpm_regional_sampling(pup, np.exp(1j * fpm), nbres=res_list, samp_outer=samp_outer)\n",
    "post_ls_areas = pre_ls_areas * lyot_stop\n",
    "\n",
    "nbres_direct = dim / samp_outer\n",
    "pre_fpm = mft(pup, real_dim_input=dim, dim_output=dim, nbres=nbres_direct)\n",
    "post_fpm = pre_fpm * np.exp(1j * fpm)\n",
    "pre_ls_direct = mft(post_fpm, real_dim_input=dim, dim_output=dim, nbres=nbres_direct, inverse=True)\n",
    "post_ls_direct = pre_ls_direct * lyot_stop"
   ]
  },
  {
   "cell_type": "code",
   "execution_count": null,
   "id": "ece27367",
   "metadata": {},
   "outputs": [],
   "source": [
    "direct_ef = mft(pup*lyot_stop, real_dim_input=dim, dim_output=dim, nbres=nbres_direct)\n",
    "direct_psf = np.abs(direct_ef)**2\n",
    "norm = direct_psf.max()"
   ]
  },
  {
   "cell_type": "code",
   "execution_count": null,
   "id": "b59dce03",
   "metadata": {},
   "outputs": [],
   "source": [
    "plt.figure(figsize=(16,8))\n",
    "plt.subplot(1,2,1)\n",
    "plt.imshow(np.abs(post_ls_areas), cmap='inferno', origin='lower', norm=LogNorm())\n",
    "plt.colorbar()\n",
    "plt.subplot(1,2,2)\n",
    "plt.imshow(np.abs(post_ls_direct), cmap='inferno', origin='lower', norm=LogNorm())\n",
    "plt.colorbar()"
   ]
  },
  {
   "cell_type": "code",
   "execution_count": null,
   "id": "c0e970ef",
   "metadata": {},
   "outputs": [],
   "source": [
    "print(np.sum(np.abs(post_ls_areas)**2))\n",
    "print(np.sum(np.abs(post_ls_direct)**2))"
   ]
  },
  {
   "cell_type": "code",
   "execution_count": null,
   "id": "2ab17365",
   "metadata": {},
   "outputs": [],
   "source": [
    "coro_ef_areas = mft(post_ls_areas, real_dim_input=dim, dim_output=dim, nbres=nbres_direct)\n",
    "coro_psf_areas = np.abs(coro_ef_areas) ** 2 / norm"
   ]
  },
  {
   "cell_type": "code",
   "execution_count": null,
   "id": "de2c6397",
   "metadata": {},
   "outputs": [],
   "source": [
    "coro_ef_direct = mft(post_ls_direct, real_dim_input=dim, dim_output=dim, nbres=nbres_direct)\n",
    "coro_psf_direct = np.abs(coro_ef_direct) ** 2 / norm"
   ]
  },
  {
   "cell_type": "code",
   "execution_count": null,
   "id": "c76136b7",
   "metadata": {},
   "outputs": [],
   "source": [
    "plt.figure(figsize=(16,8))\n",
    "plt.subplot(1,2,1)\n",
    "plt.imshow(coro_psf_areas, cmap='inferno', origin='lower', norm=LogNorm())\n",
    "plt.colorbar()\n",
    "plt.subplot(1,2,2)\n",
    "plt.imshow(coro_psf_direct, cmap='inferno', origin='lower', norm=LogNorm())\n",
    "plt.colorbar()"
   ]
  },
  {
   "cell_type": "code",
   "execution_count": null,
   "id": "2c01a79f",
   "metadata": {},
   "outputs": [],
   "source": [
    "assert (np.max(coro_psf_direct) / np.max(coro_psf_areas)) > 1e4"
   ]
  },
  {
   "cell_type": "code",
   "execution_count": null,
   "id": "f59ea774",
   "metadata": {},
   "outputs": [],
   "source": []
  },
  {
   "cell_type": "code",
   "execution_count": null,
   "id": "46d7e404",
   "metadata": {},
   "outputs": [],
   "source": []
  },
  {
   "cell_type": "code",
   "execution_count": null,
   "id": "7bd8944c",
   "metadata": {},
   "outputs": [],
   "source": []
  }
 ],
 "metadata": {
  "kernelspec": {
   "display_name": "Python 3.10.6 ('asterix')",
   "language": "python",
   "name": "python3"
  },
  "language_info": {
   "codemirror_mode": {
    "name": "ipython",
    "version": 3
   },
   "file_extension": ".py",
   "mimetype": "text/x-python",
   "name": "python",
   "nbconvert_exporter": "python",
   "pygments_lexer": "ipython3",
   "version": "3.10.6"
  },
  "vscode": {
   "interpreter": {
    "hash": "1338b55606ec1e08a9e291475375b3c9e1af96330f4ccc0af3c2c9244b890415"
   }
  }
 },
 "nbformat": 4,
 "nbformat_minor": 5
}
