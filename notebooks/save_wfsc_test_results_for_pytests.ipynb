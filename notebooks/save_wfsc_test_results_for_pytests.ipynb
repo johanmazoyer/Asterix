{
 "cells": [
  {
   "cell_type": "markdown",
   "id": "26790433",
   "metadata": {},
   "source": [
    "# Prepare some WFS&C tests\n",
    "\n",
    "This notebook allows us to run various WFS&C loop with the simulator and dump part of results to the type of file that can be read in by the pytests."
   ]
  },
  {
   "cell_type": "code",
   "execution_count": null,
   "id": "e765d9bc",
   "metadata": {},
   "outputs": [],
   "source": [
    "import os\n",
    "import json\n",
    "from Asterix import main_THD, Asterix_root\n",
    "from Asterix.tests.test_utils import write_test_results_to_file, read_test_results_from_file\n",
    "\n",
    "\n",
    "param_file_path = os.path.join(Asterix_root, 'Example_param_file.ini')"
   ]
  },
  {
   "cell_type": "markdown",
   "id": "ded7add0",
   "metadata": {},
   "source": [
    "### Test case setup"
   ]
  },
  {
   "cell_type": "code",
   "execution_count": null,
   "id": "7d8de1a0",
   "metadata": {},
   "outputs": [],
   "source": [
    "estimator = \"perfect\"\n",
    "corrector = \"sm\"\n",
    "coro = \"fqpm\"    # This does not set it, it's just for the filename."
   ]
  },
  {
   "cell_type": "markdown",
   "id": "f0e9648f",
   "metadata": {},
   "source": [
    "## Full DH"
   ]
  },
  {
   "cell_type": "code",
   "execution_count": null,
   "id": "8b868067",
   "metadata": {},
   "outputs": [],
   "source": [
    "results_full_dh = main_THD.runthd2(param_file_path,\n",
    "                                   NewDMconfig={'DM1_active': True},\n",
    "                                   NewEstimationconfig={'estimation': estimator},\n",
    "                                   NewCorrectionconfig={\n",
    "                                       'DH_side': \"Full\",\n",
    "                                       'correction_algorithm': \"sm\",\n",
    "                                       'Nbmodes_OnTestbed': 600\n",
    "                                   },\n",
    "                                   NewLoopconfig={\n",
    "                                       'Nbiter_corr': [20],\n",
    "                                       'Nbmode_corr': [250]\n",
    "                                   },\n",
    "                                   NewSIMUconfig={'Name_Experiment': \"tata\"})"
   ]
  },
  {
   "cell_type": "code",
   "execution_count": null,
   "id": "436726a2",
   "metadata": {},
   "outputs": [],
   "source": [
    "write_test_results_to_file(results_full_dh, f'{estimator}_estim_with_{corrector}_correction_FullDH_{coro}.txt')"
   ]
  },
  {
   "cell_type": "markdown",
   "id": "83084a78",
   "metadata": {},
   "source": [
    "## Right DH"
   ]
  },
  {
   "cell_type": "code",
   "execution_count": null,
   "id": "d22dde02",
   "metadata": {},
   "outputs": [],
   "source": [
    "results_half_dh = main_THD.runthd2(param_file_path,\n",
    "                                   NewDMconfig={'DM1_active': True},\n",
    "                                   NewEstimationconfig={'estimation': estimator},\n",
    "                                   NewCorrectionconfig={\n",
    "                                       'DH_side': \"Right\",\n",
    "                                       'correction_algorithm': \"sm\",\n",
    "                                       'Nbmodes_OnTestbed': 600\n",
    "                                   },\n",
    "                                   NewLoopconfig={\n",
    "                                       'Nbiter_corr': [20],\n",
    "                                       'Nbmode_corr': [250]\n",
    "                                   },\n",
    "                                   NewSIMUconfig={'Name_Experiment': \"tutu\"})"
   ]
  },
  {
   "cell_type": "code",
   "execution_count": null,
   "id": "683ecbd6",
   "metadata": {},
   "outputs": [],
   "source": [
    "write_test_results_to_file(results_half_dh, f'{estimator}_estim_with_{corrector}_correction_RightDH_{coro}.txt')"
   ]
  },
  {
   "cell_type": "code",
   "execution_count": null,
   "id": "0ff8ff33",
   "metadata": {},
   "outputs": [],
   "source": []
  }
 ],
 "metadata": {
  "kernelspec": {
   "display_name": "Python 3 (ipykernel)",
   "language": "python",
   "name": "python3"
  },
  "language_info": {
   "codemirror_mode": {
    "name": "ipython",
    "version": 3
   },
   "file_extension": ".py",
   "mimetype": "text/x-python",
   "name": "python",
   "nbconvert_exporter": "python",
   "pygments_lexer": "ipython3",
   "version": "3.8.13"
  }
 },
 "nbformat": 4,
 "nbformat_minor": 5
}
