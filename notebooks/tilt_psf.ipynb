{
 "cells": [
  {
   "cell_type": "markdown",
   "id": "bd833545",
   "metadata": {},
   "source": [
    "# Apply tilt aberration to get off-axis PSF\n",
    "\n",
    "To check the contrast normalization"
   ]
  },
  {
   "cell_type": "code",
   "execution_count": null,
   "id": "49df78bf",
   "metadata": {},
   "outputs": [],
   "source": [
    "import os\n",
    "from astropy.io import fits\n",
    "from matplotlib.colors import TwoSlopeNorm, LogNorm\n",
    "import matplotlib.cm as cm\n",
    "import matplotlib.pyplot as plt\n",
    "import numpy as np\n",
    "\n",
    "from Asterix import main_THD, Asterix_root\n",
    "from Asterix.utils import get_data_dir, read_parameter_file\n",
    "from Asterix.optics import Pupil, Coronagraph, DeformableMirror, Testbed\n",
    "\n",
    "zerocenter = TwoSlopeNorm(vcenter=0.)"
   ]
  },
  {
   "cell_type": "code",
   "execution_count": null,
   "id": "d4821b0c",
   "metadata": {},
   "outputs": [],
   "source": [
    "# Instantiate a THD2 object\n",
    "your_directory = Asterix_root\n",
    "your_parameter_file_name = 'thd2_setups/Example_param_file_10jul24.ini'\n",
    "parameter_file_path = os.path.join(your_directory, your_parameter_file_name)\n",
    "\n",
    "config = read_parameter_file(parameter_file_path)\n",
    "\n",
    "data_dir = get_data_dir(config_in=config[\"Data_dir\"])\n",
    "model_local_dir = os.path.join(data_dir, \"Model_local\")\n",
    "\n",
    "# Concatenate into the full testbed optical system\n",
    "thd2 = main_THD.THD2(config, model_local_dir)\n",
    "original_dm = thd2.dm3.DM_pushact\n",
    "\n",
    "dm_ref = thd2.dm3.DM_pushact[518] + thd2.dm3.DM_pushact[519] + thd2.dm3.DM_pushact[780]\n",
    "dm = np.sum(thd2.dm3.DM_pushact, axis=0)\n",
    "pup = thd2.entrance_pupil.pup\n",
    "ls = thd2.corono.lyot_pup.pup"
   ]
  },
  {
   "cell_type": "markdown",
   "id": "0180844b",
   "metadata": {},
   "source": [
    "## Create the tip/tilt phase screen\n",
    "\n",
    "Then save it out so it can be read for the THD2 optical model in Asterix."
   ]
  },
  {
   "cell_type": "code",
   "execution_count": null,
   "id": "d988306d",
   "metadata": {},
   "outputs": [],
   "source": [
    "px = thd2.dim_overpad_pupil\n",
    "\n",
    "xvals = (np.arange(px) / px - 0.5)\n",
    "yvals = (np.arange(px) / px - 0.5)\n",
    "\n",
    "xx, yy = np.meshgrid(xvals, yvals)\n",
    "\n",
    "plt.subplot(1, 2, 1)\n",
    "plt.imshow(xx, cmap='RdBu')\n",
    "plt.colorbar()\n",
    "plt.subplot(1, 2, 2)\n",
    "plt.imshow(yy, cmap='RdBu')\n",
    "plt.colorbar()"
   ]
  },
  {
   "cell_type": "code",
   "execution_count": null,
   "id": "bbf250b4",
   "metadata": {},
   "outputs": [],
   "source": [
    "phase = 100 * xx + 100 * yy\n",
    "\n",
    "plt.imshow(phase, cmap='RdBu')\n",
    "plt.colorbar()"
   ]
  },
  {
   "cell_type": "code",
   "execution_count": null,
   "id": "29bcfb64",
   "metadata": {},
   "outputs": [],
   "source": [
    "fits.writeto('tiptilt.fits', phase, overwrite=True)\n",
    "# Move the file to your local model dir"
   ]
  },
  {
   "cell_type": "markdown",
   "id": "5ad4693d",
   "metadata": {},
   "source": [
    "## Apply the tip/tilt phase screen and propagate to focal plane intensity"
   ]
  },
  {
   "cell_type": "code",
   "execution_count": null,
   "id": "ffd00fe1",
   "metadata": {},
   "outputs": [],
   "source": [
    "SIMUconfig={'set_UPphase_abb': True,\n",
    "            'set_UPrandom_phase': False,\n",
    "            'UPopd_rms': 0,\n",
    "            'UPphase_rhoc': 0,\n",
    "            'UPphase_slope': -3,\n",
    "            'UPphase_abb_filename': \"tiptilt\"}"
   ]
  },
  {
   "cell_type": "code",
   "execution_count": null,
   "id": "403e69cb",
   "metadata": {},
   "outputs": [],
   "source": [
    "# Phase upstream of the coronagraph (entrance pup)\n",
    "phase_abb_up = thd2.generate_phase_aberr(SIMUconfig,\n",
    "                                         up_or_down='up',\n",
    "                                         Model_local_dir=model_local_dir,\n",
    "                                         silence=True)"
   ]
  },
  {
   "cell_type": "code",
   "execution_count": null,
   "id": "6db6b6b2",
   "metadata": {},
   "outputs": [],
   "source": [
    "# WF in the testbed entrance pupil\n",
    "input_wavefront = thd2.EF_from_phase_and_ampl(phase_abb=phase_abb_up)\n",
    "print(np.sum(input_wavefront))"
   ]
  },
  {
   "cell_type": "code",
   "execution_count": null,
   "id": "f759d714",
   "metadata": {},
   "outputs": [],
   "source": [
    "plt.imshow(np.angle(input_wavefront)**2)\n",
    "plt.colorbar()"
   ]
  },
  {
   "cell_type": "code",
   "execution_count": null,
   "id": "de07450a",
   "metadata": {},
   "outputs": [],
   "source": [
    "initialFP = thd2.todetector_intensity(entrance_EF=input_wavefront, voltage_vector=0, nb_photons=0)\n",
    "plt.imshow(initialFP, norm=LogNorm(), origin='lower', cmap='inferno')\n",
    "plt.colorbar()\n",
    "print(np.max(initialFP))"
   ]
  },
  {
   "cell_type": "code",
   "execution_count": null,
   "id": "26134821",
   "metadata": {},
   "outputs": [],
   "source": []
  }
 ],
 "metadata": {
  "kernelspec": {
   "display_name": "Python 3 (ipykernel)",
   "language": "python",
   "name": "python3"
  },
  "language_info": {
   "codemirror_mode": {
    "name": "ipython",
    "version": 3
   },
   "file_extension": ".py",
   "mimetype": "text/x-python",
   "name": "python",
   "nbconvert_exporter": "python",
   "pygments_lexer": "ipython3",
   "version": "3.8.16"
  }
 },
 "nbformat": 4,
 "nbformat_minor": 5
}
