{
 "cells": [
  {
   "cell_type": "markdown",
   "id": "73588421",
   "metadata": {},
   "source": [
    "# Coronagraph propagation\n",
    "\n",
    "In this notebook, we do a propagation through a coronagaph, once by itself, and then through the entire optical setup of the THD2 testbed."
   ]
  },
  {
   "cell_type": "code",
   "execution_count": null,
   "id": "22c8b4a9",
   "metadata": {},
   "outputs": [],
   "source": [
    "import os\n",
    "from matplotlib.colors import LogNorm\n",
    "import matplotlib.pyplot as plt\n",
    "import numpy as np\n",
    "\n",
    "%matplotlib inline\n",
    "from Asterix import Asterix_root\n",
    "from Asterix.utils import read_parameter_file\n",
    "from Asterix.optics import butterworth_circle, Pupil, Coronagraph, DeformableMirror, mft, roundpupil, Testbed"
   ]
  },
  {
   "cell_type": "code",
   "execution_count": null,
   "id": "d12a21ba",
   "metadata": {},
   "outputs": [],
   "source": [
    "# Read configuration file\n",
    "your_directory = Asterix_root\n",
    "your_parameter_file_name = 'Example_param_file.ini'\n",
    "\n",
    "parameter_file_path = os.path.join(your_directory, your_parameter_file_name)\n",
    "config = read_parameter_file(parameter_file_path)#, NewCoronaconfig={'corona_type': 'wrapped_vortex'})"
   ]
  },
  {
   "cell_type": "code",
   "execution_count": null,
   "id": "ad317937",
   "metadata": {},
   "outputs": [],
   "source": [
    "Data_dir = config[\"Data_dir\"]\n",
    "onbench = config[\"onbench\"]\n",
    "modelconfig = config[\"modelconfig\"]\n",
    "DMconfig = config[\"DMconfig\"]\n",
    "Coronaconfig = config[\"Coronaconfig\"]\n",
    "Estimationconfig = config[\"Estimationconfig\"]\n",
    "Correctionconfig = config[\"Correctionconfig\"]\n",
    "Loopconfig = config[\"Loopconfig\"]\n",
    "SIMUconfig = config[\"SIMUconfig\"]\n",
    "Name_Experiment = SIMUconfig[\"Name_Experiment\"]"
   ]
  },
  {
   "cell_type": "code",
   "execution_count": null,
   "id": "80520630",
   "metadata": {},
   "outputs": [],
   "source": [
    "model_local_dir = os.path.join(Data_dir, \"Model_local\")\n",
    "matrix_dir = os.path.join(Data_dir, \"Interaction_Matrices\")\n",
    "result_dir = os.path.join(Data_dir, \"Results\", Name_Experiment)\n",
    "labview_dir = os.path.join(Data_dir, \"Labview\")"
   ]
  },
  {
   "cell_type": "code",
   "execution_count": null,
   "id": "a063769b",
   "metadata": {},
   "outputs": [],
   "source": [
    "# Create all optical elements of the THD2 testbed\n",
    "entrance_pupil = Pupil(modelconfig,\n",
    "                       PupType=modelconfig['filename_instr_pup'],\n",
    "                       angle_rotation=modelconfig['entrance_pup_rotation'],\n",
    "                       Model_local_dir=model_local_dir)\n",
    "DM1 = DeformableMirror(modelconfig, DMconfig, Name_DM='DM1', Model_local_dir=model_local_dir)\n",
    "DM3 = DeformableMirror(modelconfig, DMconfig, Name_DM='DM3', Model_local_dir=model_local_dir)\n",
    "corono = Coronagraph(modelconfig, Coronaconfig, Model_local_dir=model_local_dir)\n",
    "\n",
    "# Concatenate into the full testbed optical system\n",
    "thd2 = Testbed([entrance_pupil, DM1, DM3, corono],\n",
    "               [\"entrancepupil\", \"DM1\", \"DM3\", \"corono\"])\n",
    "print(f\"\\nCoronagraph type: {thd2.corono.corona_type}\")"
   ]
  },
  {
   "cell_type": "markdown",
   "id": "7a83a652",
   "metadata": {},
   "source": [
    "## Propagation through the coronagraph alone"
   ]
  },
  {
   "cell_type": "code",
   "execution_count": null,
   "id": "f39f90d1",
   "metadata": {},
   "outputs": [],
   "source": [
    "# PSF without FPM\n",
    "direct_psf = corono.todetector_intensity(center_on_pixel=True, noFPM=True)\n",
    "# Get normalization factor from direct PSF\n",
    "max_psf = direct_psf.max()"
   ]
  },
  {
   "cell_type": "code",
   "execution_count": null,
   "id": "12f7b004",
   "metadata": {},
   "outputs": [],
   "source": [
    "# Coronagraphic PSF (with FPM)\n",
    "coro_psf = corono.todetector_intensity(center_on_pixel=True, noFPM=False)"
   ]
  },
  {
   "cell_type": "code",
   "execution_count": null,
   "id": "54eafae6",
   "metadata": {},
   "outputs": [],
   "source": [
    "plt.figure(figsize=(16,8))\n",
    "\n",
    "plt.subplot(1,2,1)\n",
    "plt.imshow(direct_psf/max_psf, cmap='inferno', norm=LogNorm())\n",
    "plt.title('Direct PSF')\n",
    "plt.colorbar()\n",
    "\n",
    "plt.subplot(1,2,2)\n",
    "plt.imshow(coro_psf/max_psf, cmap='inferno', norm=LogNorm())\n",
    "plt.title('Coronagraphic PSF')\n",
    "plt.colorbar()"
   ]
  },
  {
   "cell_type": "markdown",
   "id": "1b1f60c6",
   "metadata": {},
   "source": [
    "## Propagation through the full THD2 optical system"
   ]
  },
  {
   "cell_type": "code",
   "execution_count": null,
   "id": "a88405c8",
   "metadata": {},
   "outputs": [],
   "source": [
    "# Calculate the PSF through the whole optical system\n",
    "psf_after_testbed = thd2.todetector_intensity()\n",
    "\n",
    "plt.imshow(psf_after_testbed, cmap='inferno')#, norm=LogNorm())\n",
    "plt.title('Full testbed PSF (unnormalized)')\n",
    "plt.colorbar()"
   ]
  },
  {
   "cell_type": "code",
   "execution_count": null,
   "id": "7c96542d",
   "metadata": {},
   "outputs": [],
   "source": []
  }
 ],
 "metadata": {
  "kernelspec": {
   "display_name": "Python 3 (ipykernel)",
   "language": "python",
   "name": "python3"
  },
  "language_info": {
   "codemirror_mode": {
    "name": "ipython",
    "version": 3
   },
   "file_extension": ".py",
   "mimetype": "text/x-python",
   "name": "python",
   "nbconvert_exporter": "python",
   "pygments_lexer": "ipython3",
   "version": "3.8.13"
  }
 },
 "nbformat": 4,
 "nbformat_minor": 5
}
