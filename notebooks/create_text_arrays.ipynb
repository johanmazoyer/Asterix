{
 "cells": [
  {
   "cell_type": "markdown",
   "id": "f7a918c4",
   "metadata": {},
   "source": [
    "# Create array images with text\n",
    "\n",
    "Sources:\n",
    "- https://code-maven.com/create-images-with-python-pil-pillow\n",
    "- https://python.plainenglish.io/generating-text-on-image-with-python-eefe4430fe77\n",
    "- https://pillow.readthedocs.io/en/stable/reference/Image.html\n",
    "- https://pillow.readthedocs.io/en/stable/reference/ImageFont.html?highlight=ImageFont"
   ]
  },
  {
   "cell_type": "code",
   "execution_count": null,
   "id": "e3cd097f",
   "metadata": {},
   "outputs": [],
   "source": [
    "import matplotlib.pyplot as plt\n",
    "import numpy as np\n",
    "from PIL import Image, ImageDraw, ImageFont"
   ]
  },
  {
   "cell_type": "code",
   "execution_count": null,
   "id": "01c89fa2",
   "metadata": {},
   "outputs": [],
   "source": [
    "dimFP = 400\n",
    "\n",
    "img = Image.new(mode=\"L\", size=(dimFP,dimFP))\n",
    "fnt = ImageFont.truetype('/Library/Fonts/Arial Black.ttf', size=int(dimFP/4))\n",
    "d = ImageDraw.Draw(img)\n",
    "d.text((int(dimFP/4),int(dimFP*0.2)), \"C N \\nR S\", font=fnt, fill=1)"
   ]
  },
  {
   "cell_type": "code",
   "execution_count": null,
   "id": "03e1cd9e",
   "metadata": {},
   "outputs": [],
   "source": [
    "plt.imshow(img, cmap='Greys_r', origin='lower')\n",
    "plt.colorbar()"
   ]
  },
  {
   "cell_type": "code",
   "execution_count": null,
   "id": "d561e7e7",
   "metadata": {},
   "outputs": [],
   "source": [
    "im_data = np.asarray(img, dtype=float)"
   ]
  },
  {
   "cell_type": "code",
   "execution_count": null,
   "id": "a7e96c7f",
   "metadata": {},
   "outputs": [],
   "source": []
  }
 ],
 "metadata": {
  "kernelspec": {
   "display_name": "Python 3 (ipykernel)",
   "language": "python",
   "name": "python3"
  },
  "language_info": {
   "codemirror_mode": {
    "name": "ipython",
    "version": 3
   },
   "file_extension": ".py",
   "mimetype": "text/x-python",
   "name": "python",
   "nbconvert_exporter": "python",
   "pygments_lexer": "ipython3",
   "version": "3.8.13"
  }
 },
 "nbformat": 4,
 "nbformat_minor": 5
}
