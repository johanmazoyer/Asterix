{
 "cells": [
  {
   "cell_type": "markdown",
   "id": "e8e51c0b",
   "metadata": {},
   "source": [
    "# Parity checks on DMs\n",
    "\n",
    "Creating calibration data for flips and rotations between the two DMs and the final focal plane."
   ]
  },
  {
   "cell_type": "code",
   "execution_count": null,
   "id": "f038cefc",
   "metadata": {},
   "outputs": [],
   "source": [
    "# Imports\n",
    "%matplotlib inline\n",
    "import os\n",
    "from astropy.io import fits\n",
    "import matplotlib as mpl\n",
    "from matplotlib.colors import LogNorm\n",
    "import matplotlib.pyplot as plt\n",
    "import numpy as np\n",
    "\n",
    "from Asterix import Asterix_root\n",
    "from Asterix.utils import read_parameter_file\n",
    "from Asterix.optics import Pupil, Coronagraph, DeformableMirror, Testbed\n",
    "from Asterix.main_THD import THD2"
   ]
  },
  {
   "cell_type": "code",
   "execution_count": null,
   "id": "5183205f",
   "metadata": {},
   "outputs": [],
   "source": [
    "# Some setup for pretty plotting\n",
    "mpl.rc('image', origin='lower',   # Put the origin in the lower left corner.\n",
    "       interpolation=None)        # Do not interpolate between pixels in the display."
   ]
  },
  {
   "cell_type": "code",
   "execution_count": null,
   "id": "b8310a82",
   "metadata": {},
   "outputs": [],
   "source": [
    "# Load the template parameter file\n",
    "parameter_file_ex = os.path.join(Asterix_root, \"Example_param_file.ini\")\n",
    "config = read_parameter_file(parameter_file_ex)"
   ]
  },
  {
   "cell_type": "code",
   "execution_count": null,
   "id": "a75481ca",
   "metadata": {},
   "outputs": [],
   "source": [
    "thd2 = THD2(parameter_file_ex)"
   ]
  },
  {
   "cell_type": "markdown",
   "id": "fc0697d8",
   "metadata": {},
   "source": [
    "## Focal-plane images with applied DM commands\n",
    "\n",
    "We first create global tip and tilt commands for both DMs. We then apply these individually to the DMs to see in which direction the non-coronagraphic PSF moves. You always need to note the image origin in such tests, here I set the image origin permanently to the lower left at the beginning of this notebook."
   ]
  },
  {
   "cell_type": "code",
   "execution_count": null,
   "id": "c8f3b31d",
   "metadata": {},
   "outputs": [],
   "source": [
    "# Ramp on all actuators of either DM, creating a tip/tilt\n",
    "shift_x = 1000   # no clue what units these create here, but this is a decent aplitude for the iamges below\n",
    "shift_y = 1000\n",
    "\n",
    "maskx_dm1 = np.linspace(-np.pi * shift_x, np.pi * shift_x, 34, endpoint=False)\n",
    "masky_dm1 = np.linspace(-np.pi * shift_y, np.pi * shift_y, 34, endpoint=False)\n",
    "xx_dm1, yy_dm1 = np.meshgrid(maskx_dm1, masky_dm1)\n",
    "ramp_dm1 = xx_dm1\n",
    "ramp_dm1_rot = yy_dm1\n",
    "\n",
    "maskx_dm3 = np.linspace(-np.pi * shift_x, np.pi * shift_x, 32, endpoint=False)\n",
    "masky_dm3 = np.linspace(-np.pi * shift_y, np.pi * shift_y, 32, endpoint=False)\n",
    "xx_dm3, yy_dm3 = np.meshgrid(maskx_dm3, masky_dm3)\n",
    "ramp_dm3 = xx_dm3\n",
    "ramp_dm3_rot = yy_dm3\n",
    "\n",
    "print(type(ramp_dm1))\n",
    "print(ramp_dm1.shape)\n",
    "print(type(ramp_dm3))\n",
    "print(ramp_dm3.shape)\n",
    "\n",
    "plt.figure(figsize=(12, 12))\n",
    "plt.subplot(2, 2, 1)\n",
    "plt.imshow(ramp_dm1, cmap='RdBu')\n",
    "plt.title('ramp_dm1 command DM1')\n",
    "plt.colorbar()\n",
    "\n",
    "plt.subplot(2, 2, 2)\n",
    "plt.imshow(ramp_dm3, cmap='RdBu')\n",
    "plt.title('ramp_dm3 command DM3')\n",
    "plt.colorbar()\n",
    "\n",
    "plt.subplot(2, 2, 3)\n",
    "plt.imshow(ramp_dm1_rot, cmap='RdBu')\n",
    "plt.title('ramp_dm1_rot command DM1')\n",
    "plt.colorbar()\n",
    "\n",
    "plt.subplot(2, 2, 4)\n",
    "plt.imshow(ramp_dm3_rot, cmap='RdBu')\n",
    "plt.title('ramp_dm3_rot command DM3')\n",
    "plt.colorbar()"
   ]
  },
  {
   "cell_type": "code",
   "execution_count": null,
   "id": "60a4f166",
   "metadata": {},
   "outputs": [],
   "source": [
    "print(thd2.number_act)"
   ]
  },
  {
   "cell_type": "code",
   "execution_count": null,
   "id": "fc123be3",
   "metadata": {},
   "outputs": [],
   "source": [
    "num_act_dm1 = 952\n",
    "num_act_dm3 = 1024  # 713?"
   ]
  },
  {
   "cell_type": "markdown",
   "id": "2ac465ad",
   "metadata": {},
   "source": [
    "The total DM command is a concatenated array of the separate DM1 and DM3 commands. Since DM1 is not a square array, we need to correctly pick the part of the ramps above that are the actual DM1 actuators on the grid. We can use this by using a square 2D mask where only the real actuators have a value of one.\n",
    "\n",
    "I didn't want to add a new fits file to the repo just for this, so I create the mask in situ."
   ]
  },
  {
   "cell_type": "code",
   "execution_count": null,
   "id": "a02b14e7",
   "metadata": {},
   "outputs": [],
   "source": [
    "dm1_mask = np.array([[0, 0, 0, 0, 0, 0, 0, 0, 0, 0, 0, 1, 1, 1, 1, 1, 1, 1, 1, 1, 1, 1, 1, 0,\n",
    "                      0, 0, 0, 0, 0, 0, 0, 0, 0, 0],\n",
    "                     [0, 0, 0, 0, 0, 0, 0, 0, 0, 1, 1, 1, 1, 1, 1, 1, 1, 1, 1, 1, 1, 1, 1, 1,\n",
    "                      1, 0, 0, 0, 0, 0, 0, 0, 0, 0],\n",
    "                     [0, 0, 0, 0, 0, 0, 0, 1, 1, 1, 1, 1, 1, 1, 1, 1, 1, 1, 1, 1, 1, 1, 1, 1,\n",
    "                      1, 1, 1, 0, 0, 0, 0, 0, 0, 0],\n",
    "                     [0, 0, 0, 0, 0, 0, 1, 1, 1, 1, 1, 1, 1, 1, 1, 1, 1, 1, 1, 1, 1, 1, 1, 1,\n",
    "                      1, 1, 1, 1, 0, 0, 0, 0, 0, 0],\n",
    "                     [0, 0, 0, 0, 0, 1, 1, 1, 1, 1, 1, 1, 1, 1, 1, 1, 1, 1, 1, 1, 1, 1, 1, 1,\n",
    "                      1, 1, 1, 1, 1, 0, 0, 0, 0, 0],\n",
    "                     [0, 0, 0, 0, 1, 1, 1, 1, 1, 1, 1, 1, 1, 1, 1, 1, 1, 1, 1, 1, 1, 1, 1, 1,\n",
    "                      1, 1, 1, 1, 1, 1, 0, 0, 0, 0],\n",
    "                     [0, 0, 0, 1, 1, 1, 1, 1, 1, 1, 1, 1, 1, 1, 1, 1, 1, 1, 1, 1, 1, 1, 1, 1,\n",
    "                      1, 1, 1, 1, 1, 1, 1, 0, 0, 0],\n",
    "                     [0, 0, 1, 1, 1, 1, 1, 1, 1, 1, 1, 1, 1, 1, 1, 1, 1, 1, 1, 1, 1, 1, 1, 1,\n",
    "                      1, 1, 1, 1, 1, 1, 1, 1, 0, 0],\n",
    "                     [0, 0, 1, 1, 1, 1, 1, 1, 1, 1, 1, 1, 1, 1, 1, 1, 1, 1, 1, 1, 1, 1, 1, 1,\n",
    "                      1, 1, 1, 1, 1, 1, 1, 1, 0, 0],\n",
    "                     [0, 1, 1, 1, 1, 1, 1, 1, 1, 1, 1, 1, 1, 1, 1, 1, 1, 1, 1, 1, 1, 1, 1, 1,\n",
    "                      1, 1, 1, 1, 1, 1, 1, 1, 1, 0],\n",
    "                     [0, 1, 1, 1, 1, 1, 1, 1, 1, 1, 1, 1, 1, 1, 1, 1, 1, 1, 1, 1, 1, 1, 1, 1,\n",
    "                      1, 1, 1, 1, 1, 1, 1, 1, 1, 0],\n",
    "                     [1, 1, 1, 1, 1, 1, 1, 1, 1, 1, 1, 1, 1, 1, 1, 1, 1, 1, 1, 1, 1, 1, 1, 1,\n",
    "                      1, 1, 1, 1, 1, 1, 1, 1, 1, 1],\n",
    "                     [1, 1, 1, 1, 1, 1, 1, 1, 1, 1, 1, 1, 1, 1, 1, 1, 1, 1, 1, 1, 1, 1, 1, 1,\n",
    "                      1, 1, 1, 1, 1, 1, 1, 1, 1, 1],\n",
    "                     [1, 1, 1, 1, 1, 1, 1, 1, 1, 1, 1, 1, 1, 1, 1, 1, 1, 1, 1, 1, 1, 1, 1, 1,\n",
    "                      1, 1, 1, 1, 1, 1, 1, 1, 1, 1],\n",
    "                     [1, 1, 1, 1, 1, 1, 1, 1, 1, 1, 1, 1, 1, 1, 1, 1, 1, 1, 1, 1, 1, 1, 1, 1,\n",
    "                      1, 1, 1, 1, 1, 1, 1, 1, 1, 1],\n",
    "                     [1, 1, 1, 1, 1, 1, 1, 1, 1, 1, 1, 1, 1, 1, 1, 1, 1, 1, 1, 1, 1, 1, 1, 1,\n",
    "                      1, 1, 1, 1, 1, 1, 1, 1, 1, 1],\n",
    "                     [1, 1, 1, 1, 1, 1, 1, 1, 1, 1, 1, 1, 1, 1, 1, 1, 1, 1, 1, 1, 1, 1, 1, 1,\n",
    "                      1, 1, 1, 1, 1, 1, 1, 1, 1, 1],\n",
    "                     [1, 1, 1, 1, 1, 1, 1, 1, 1, 1, 1, 1, 1, 1, 1, 1, 1, 1, 1, 1, 1, 1, 1, 1,\n",
    "                      1, 1, 1, 1, 1, 1, 1, 1, 1, 1],\n",
    "                     [1, 1, 1, 1, 1, 1, 1, 1, 1, 1, 1, 1, 1, 1, 1, 1, 1, 1, 1, 1, 1, 1, 1, 1,\n",
    "                      1, 1, 1, 1, 1, 1, 1, 1, 1, 1],\n",
    "                     [1, 1, 1, 1, 1, 1, 1, 1, 1, 1, 1, 1, 1, 1, 1, 1, 1, 1, 1, 1, 1, 1, 1, 1,\n",
    "                      1, 1, 1, 1, 1, 1, 1, 1, 1, 1],\n",
    "                     [1, 1, 1, 1, 1, 1, 1, 1, 1, 1, 1, 1, 1, 1, 1, 1, 1, 1, 1, 1, 1, 1, 1, 1,\n",
    "                      1, 1, 1, 1, 1, 1, 1, 1, 1, 1],\n",
    "                     [1, 1, 1, 1, 1, 1, 1, 1, 1, 1, 1, 1, 1, 1, 1, 1, 1, 1, 1, 1, 1, 1, 1, 1,\n",
    "                      1, 1, 1, 1, 1, 1, 1, 1, 1, 1],\n",
    "                     [1, 1, 1, 1, 1, 1, 1, 1, 1, 1, 1, 1, 1, 1, 1, 1, 1, 1, 1, 1, 1, 1, 1, 1,\n",
    "                      1, 1, 1, 1, 1, 1, 1, 1, 1, 1],\n",
    "                     [0, 1, 1, 1, 1, 1, 1, 1, 1, 1, 1, 1, 1, 1, 1, 1, 1, 1, 1, 1, 1, 1, 1, 1,\n",
    "                      1, 1, 1, 1, 1, 1, 1, 1, 1, 0],\n",
    "                     [0, 1, 1, 1, 1, 1, 1, 1, 1, 1, 1, 1, 1, 1, 1, 1, 1, 1, 1, 1, 1, 1, 1, 1,\n",
    "                      1, 1, 1, 1, 1, 1, 1, 1, 1, 0],\n",
    "                     [0, 0, 1, 1, 1, 1, 1, 1, 1, 1, 1, 1, 1, 1, 1, 1, 1, 1, 1, 1, 1, 1, 1, 1,\n",
    "                      1, 1, 1, 1, 1, 1, 1, 1, 0, 0],\n",
    "                     [0, 0, 1, 1, 1, 1, 1, 1, 1, 1, 1, 1, 1, 1, 1, 1, 1, 1, 1, 1, 1, 1, 1, 1,\n",
    "                      1, 1, 1, 1, 1, 1, 1, 1, 0, 0],\n",
    "                     [0, 0, 0, 1, 1, 1, 1, 1, 1, 1, 1, 1, 1, 1, 1, 1, 1, 1, 1, 1, 1, 1, 1, 1,\n",
    "                      1, 1, 1, 1, 1, 1, 1, 0, 0, 0],\n",
    "                     [0, 0, 0, 0, 1, 1, 1, 1, 1, 1, 1, 1, 1, 1, 1, 1, 1, 1, 1, 1, 1, 1, 1, 1,\n",
    "                      1, 1, 1, 1, 1, 1, 0, 0, 0, 0],\n",
    "                     [0, 0, 0, 0, 0, 1, 1, 1, 1, 1, 1, 1, 1, 1, 1, 1, 1, 1, 1, 1, 1, 1, 1, 1,\n",
    "                      1, 1, 1, 1, 1, 0, 0, 0, 0, 0],\n",
    "                     [0, 0, 0, 0, 0, 0, 1, 1, 1, 1, 1, 1, 1, 1, 1, 1, 1, 1, 1, 1, 1, 1, 1, 1,\n",
    "                      1, 1, 1, 1, 0, 0, 0, 0, 0, 0],\n",
    "                     [0, 0, 0, 0, 0, 0, 0, 1, 1, 1, 1, 1, 1, 1, 1, 1, 1, 1, 1, 1, 1, 1, 1, 1,\n",
    "                      1, 1, 1, 0, 0, 0, 0, 0, 0, 0],\n",
    "                     [0, 0, 0, 0, 0, 0, 0, 0, 0, 1, 1, 1, 1, 1, 1, 1, 1, 1, 1, 1, 1, 1, 1, 1,\n",
    "                      1, 0, 0, 0, 0, 0, 0, 0, 0, 0],\n",
    "                     [0, 0, 0, 0, 0, 0, 0, 0, 0, 0, 0, 1, 1, 1, 1, 1, 1, 1, 1, 1, 1, 1, 1, 0,\n",
    "                      0, 0, 0, 0, 0, 0, 0, 0, 0, 0]])\n",
    "\n",
    "plt.imshow(dm1_mask, cmap='Greys_r')\n",
    "plt.colorbar()"
   ]
  },
  {
   "cell_type": "code",
   "execution_count": null,
   "id": "4b5a3e4b",
   "metadata": {},
   "outputs": [],
   "source": [
    "# If you want a ramp on DM1, change the (un)comment here with ramp_dm1 or ramp_dm1_rot\n",
    "dm1_command = np.zeros((num_act_dm1))\n",
    "#dm1_command = ramp_dm1_rot[np.where(dm1_mask)]\n",
    "\n",
    "# If you want a ramp on DM3, change the (un)comment here with ramp_dm3 or ramp_dm3_rot\n",
    "dm3_command = np.zeros((num_act_dm3))\n",
    "#dm3_command = ramp_dm3.ravel()\n",
    "\n",
    "print(dm1_command.shape)\n",
    "print(dm3_command.shape)\n",
    "\n",
    "# Create full DM command\n",
    "dm_command = np.concatenate((dm1_command, dm3_command))\n",
    "print(dm_command.shape)"
   ]
  },
  {
   "cell_type": "markdown",
   "id": "dd566a83",
   "metadata": {},
   "source": [
    "For the below, we use a non-coronagraphic PSF (by setting `noFPM=True`). The un-tilted PSF remains in the image center - it is easier to see the shifts imposed by the phase ramp like this\n",
    "\n",
    "Note the image origin in the lower left."
   ]
  },
  {
   "cell_type": "code",
   "execution_count": null,
   "id": "4f8d0204",
   "metadata": {},
   "outputs": [],
   "source": [
    "coro_dh = thd2.todetector_intensity(in_contrast=True, voltage_vector=dm_command, noFPM=True)"
   ]
  },
  {
   "cell_type": "code",
   "execution_count": null,
   "id": "153d6381",
   "metadata": {},
   "outputs": [],
   "source": [
    "plt.figure(figsize=(6, 6))\n",
    "plt.imshow(coro_dh, cmap='inferno', norm=LogNorm(vmin=1e-6, vmax=1e-2))\n",
    "plt.colorbar()"
   ]
  },
  {
   "cell_type": "code",
   "execution_count": null,
   "id": "9208b66a",
   "metadata": {},
   "outputs": [],
   "source": []
  }
 ],
 "metadata": {
  "kernelspec": {
   "display_name": "Python 3 (ipykernel)",
   "language": "python",
   "name": "python3"
  },
  "language_info": {
   "codemirror_mode": {
    "name": "ipython",
    "version": 3
   },
   "file_extension": ".py",
   "mimetype": "text/x-python",
   "name": "python",
   "nbconvert_exporter": "python",
   "pygments_lexer": "ipython3",
   "version": "3.8.13"
  }
 },
 "nbformat": 4,
 "nbformat_minor": 5
}
