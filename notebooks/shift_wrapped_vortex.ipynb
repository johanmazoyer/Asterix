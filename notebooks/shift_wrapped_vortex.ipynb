{
 "cells": [
  {
   "cell_type": "markdown",
   "id": "37424f7f",
   "metadata": {},
   "source": [
    "# Simulate wrapped vortex shifts\n",
    "\n",
    "In the configfile, you need:\n",
    "\n",
    "```grey_pupils = True```  \n",
    "```corona_type = 'wrapped_vortex'```"
   ]
  },
  {
   "cell_type": "code",
   "execution_count": null,
   "id": "df75b284",
   "metadata": {},
   "outputs": [],
   "source": [
    "import os\n",
    "from astropy.io import fits\n",
    "import matplotlib as mpl\n",
    "from matplotlib.colors import LogNorm\n",
    "import matplotlib.pyplot as plt\n",
    "import numpy as np\n",
    "\n",
    "from Asterix import Asterix_root\n",
    "from Asterix.main_THD import THD2\n",
    "from Asterix.utils import create_experiment_dir, get_data_dir, read_parameter_file"
   ]
  },
  {
   "cell_type": "code",
   "execution_count": null,
   "id": "46b360b1",
   "metadata": {},
   "outputs": [],
   "source": [
    "# Some setup for pretty plotting\n",
    "mpl.rc('image', origin='lower',   # Put the origin in the lower left corner.\n",
    "       interpolation=None)        # Do not interpolate between pixels in the display."
   ]
  },
  {
   "cell_type": "code",
   "execution_count": null,
   "id": "dec51f2a",
   "metadata": {},
   "outputs": [],
   "source": [
    "data_dir = get_data_dir()\n",
    "your_directory = Asterix_root\n",
    "your_parameter_file_name = 'Example_param_file.ini'\n",
    "parameter_file_path = os.path.join(your_directory, your_parameter_file_name)"
   ]
  },
  {
   "cell_type": "code",
   "execution_count": null,
   "id": "cbba0966",
   "metadata": {},
   "outputs": [],
   "source": [
    "# Individual readings needed from parameter file\n",
    "config = read_parameter_file(parameter_file_path)\n",
    "simu_config = config[\"SIMUconfig\"]\n",
    "model_local_dir = os.path.join(data_dir, 'Model_local')"
   ]
  },
  {
   "cell_type": "markdown",
   "id": "52f78b03",
   "metadata": {},
   "source": [
    "### Create THD2 simulator instance\n",
    "\n",
    "Do not forget to set the grey pupil parameter in parameterfile to True."
   ]
  },
  {
   "cell_type": "code",
   "execution_count": null,
   "id": "51721570",
   "metadata": {},
   "outputs": [],
   "source": [
    "thd2 = THD2(parameter_file_path)"
   ]
  },
  {
   "cell_type": "markdown",
   "id": "494b81d5",
   "metadata": {},
   "source": [
    "### Add aberrations to model"
   ]
  },
  {
   "cell_type": "code",
   "execution_count": null,
   "id": "8a75df0b",
   "metadata": {},
   "outputs": [],
   "source": [
    "# Phase upstream of the coronagraph (entrance pup)\n",
    "phase_abb_up = thd2.generate_phase_aberr(simu_config, up_or_down='up', Model_local_dir=model_local_dir)\n",
    "\n",
    "# Phase downstream of the coronagraph (Lyot stop)\n",
    "phase_abb_do = thd2.generate_phase_aberr(simu_config, up_or_down='do', Model_local_dir=model_local_dir)\n",
    "\n",
    "# Amplitude upstream of the coronagraph (entrance pup)\n",
    "ampl_abb_up = thd2.generate_ampl_aberr(simu_config, Model_local_dir=model_local_dir)\n",
    "\n",
    "### Create the wavefronts including the phase and amplitude aberrations\n",
    "# WF in the testbed entrance pupil\n",
    "input_wavefront = thd2.EF_from_phase_and_ampl(phase_abb=phase_abb_up, ampl_abb=ampl_abb_up)\n",
    "\n",
    "# WF in the testbed Lyot stop\n",
    "wavefront_in_LS = thd2.EF_from_phase_and_ampl(phase_abb=phase_abb_do)"
   ]
  },
  {
   "cell_type": "markdown",
   "id": "41e04fc3",
   "metadata": {},
   "source": [
    "### Direct PSF for normalization"
   ]
  },
  {
   "cell_type": "code",
   "execution_count": null,
   "id": "29f27fb5",
   "metadata": {},
   "outputs": [],
   "source": [
    "direct = thd2.todetector_intensity(in_contrast=True, entrance_EF=input_wavefront, EF_aberrations_introduced_in_LS=wavefront_in_LS,\n",
    "                                   noFPM=True)\n",
    "norm = direct.max()\n",
    "print(norm)\n",
    "\n",
    "plt.figure(figsize=(6, 6))\n",
    "plt.imshow(direct/norm, cmap='inferno', norm=LogNorm(), origin='lower')\n",
    "plt.colorbar()"
   ]
  },
  {
   "cell_type": "markdown",
   "id": "51063178",
   "metadata": {},
   "source": [
    "### Coro PSF with flat wavefronts"
   ]
  },
  {
   "cell_type": "code",
   "execution_count": null,
   "id": "dad6bb3d",
   "metadata": {},
   "outputs": [],
   "source": [
    "psf_coro = thd2.todetector_intensity(in_contrast=True, entrance_EF=input_wavefront,\n",
    "                                     EF_aberrations_introduced_in_LS=wavefront_in_LS)\n",
    "\n",
    "plt.figure(figsize=(6, 6))\n",
    "plt.imshow(psf_coro/norm, cmap='inferno', norm=LogNorm(), origin='lower')\n",
    "plt.colorbar()"
   ]
  },
  {
   "cell_type": "markdown",
   "id": "50dbac72",
   "metadata": {},
   "source": [
    "### Coro PSF with applied DH\n",
    "\n",
    "These are DM voltages from a WFS&C run in which the wrapped vortex FPM was perfectly centered. You can play with FPM shifts by restarting the kernel rerunning the entire notebook after adapting the Asterix scripts and configfile."
   ]
  },
  {
   "cell_type": "code",
   "execution_count": null,
   "id": "fc30be8e",
   "metadata": {},
   "outputs": [],
   "source": [
    "data_out = '20221109_WV_shifts_phase'"
   ]
  },
  {
   "cell_type": "code",
   "execution_count": null,
   "id": "630acc86",
   "metadata": {},
   "outputs": [],
   "source": [
    "# With aberrations like above\n",
    "experiment_dir = os.path.join(data_dir, 'Results', '20221108_14-09-40_My_fourth_experiment')\n",
    "dh_iteration = 8\n",
    "\n",
    "# Without aberrations\n",
    "# experiment_dir = os.path.join(data_dir, 'Results', '20221108_17-00-47_My_fourth_experiment')\n",
    "# dh_iteration = 11"
   ]
  },
  {
   "cell_type": "code",
   "execution_count": null,
   "id": "89cc2354",
   "metadata": {},
   "outputs": [],
   "source": [
    "# Read DM commands to apply\n",
    "dm1_voltages = fits.getdata(os.path.join(experiment_dir, 'DM1_voltages.fits'))[dh_iteration - 1]\n",
    "dm3_voltages = fits.getdata(os.path.join(experiment_dir, 'DM3_voltages.fits'))[dh_iteration - 1]\n",
    "\n",
    "# Concatenate into single array\n",
    "dm_voltages = np.concatenate((dm1_voltages, dm3_voltages))\n",
    "\n",
    "print(f'Numer of actuators in testbed: {thd2.number_act}')\n",
    "print(f'Number of actuators read in: {dm_voltages.shape[0]}')"
   ]
  },
  {
   "cell_type": "code",
   "execution_count": null,
   "id": "0c5e49c8",
   "metadata": {},
   "outputs": [],
   "source": [
    "# Calculate DH image\n",
    "coro_dh = thd2.todetector_intensity(in_contrast=True, entrance_EF=input_wavefront,\n",
    "                                    EF_aberrations_introduced_in_LS=wavefront_in_LS,\n",
    "                                    voltage_vector=dm_voltages)\n",
    "\n",
    "plt.figure(figsize=(6, 6))\n",
    "plt.imshow(coro_dh/norm, cmap='inferno', norm=LogNorm(vmin=1e-8, vmax=1e-6), origin='lower')\n",
    "plt.colorbar()\n",
    "\n",
    "fname = '0x_02y'\n",
    "plt.savefig(os.path.join(data_dir, 'Results', data_out, f'{fname}.pdf'))\n",
    "fits.writeto(os.path.join(data_dir, 'Results', data_out, f'{fname}.fits'), coro_dh/norm, overwrite=True)"
   ]
  },
  {
   "cell_type": "markdown",
   "id": "ab34a73b",
   "metadata": {},
   "source": [
    "## Plotting"
   ]
  },
  {
   "cell_type": "markdown",
   "id": "ddf4c7da",
   "metadata": {},
   "source": [
    "### Read and plot purely shifted images on a grid"
   ]
  },
  {
   "cell_type": "code",
   "execution_count": null,
   "id": "1637ad39",
   "metadata": {},
   "outputs": [],
   "source": [
    "# imgs = []\n",
    "# for i in range(4):\n",
    "#     for j in range(4):\n",
    "#         fname = f'{i}x_{j}y'\n",
    "#         print(fname)\n",
    "#         im = fits.getdata(os.path.join(data_dir, 'Results', data_out, 'shifts', 'fits', f'{fname}.fits'))\n",
    "#         imgs.append(im)"
   ]
  },
  {
   "cell_type": "code",
   "execution_count": null,
   "id": "c78480e6",
   "metadata": {
    "scrolled": false
   },
   "outputs": [],
   "source": [
    "# plt.figure(figsize=(10, 10))\n",
    "# for i in range(4):\n",
    "#     for j in range(4):\n",
    "#         plt.subplot(4, 4, 4*i + j + 1)\n",
    "#         fname = f'{i}x_{j}y'\n",
    "#         plt.imshow(imgs[4*i+j], cmap='inferno', norm=LogNorm(vmin=1e-8, vmax=1e-6), origin='lower')\n",
    "#         plt.text(150, 350, fname, color='k', fontweight='bold', size=15)\n",
    "#         plt.axis('off')\n",
    "# plt.tight_layout()\n",
    "# #plt.show()\n",
    "# #plt.savefig(os.path.join(data_dir, 'Results', data_out, 'shifts', f'full_grid.pdf'))"
   ]
  },
  {
   "cell_type": "markdown",
   "id": "55ec43cb",
   "metadata": {},
   "source": [
    "### Read and plot purely inclined images on a grid"
   ]
  },
  {
   "cell_type": "code",
   "execution_count": null,
   "id": "347b45c5",
   "metadata": {},
   "outputs": [],
   "source": [
    "# vals = [10, 13, 15, 16, 17, 18, 20, 22]\n",
    "# imgs = []\n",
    "# for deg in vals:\n",
    "#     fname = f'incl_x_{deg}deg'\n",
    "#     print(fname)\n",
    "#     im = fits.getdata(os.path.join(data_dir, 'Results', data_out, 'inclinations',\n",
    "#                                    'fits', f'{fname}.fits'))\n",
    "#     imgs.append(im)"
   ]
  },
  {
   "cell_type": "code",
   "execution_count": null,
   "id": "8a85ad3b",
   "metadata": {},
   "outputs": [],
   "source": [
    "# plt.figure(figsize=(18, 9))\n",
    "# for i, deg in enumerate(vals):\n",
    "#     plt.subplot(2, 4, i+1)\n",
    "#     fname = f'{deg}deg'\n",
    "#     plt.imshow(imgs[i], cmap='inferno', norm=LogNorm(vmin=1e-8, vmax=1e-6), origin='lower')\n",
    "#     plt.text(150, 350, fname, color='k', fontweight='bold', size=25)\n",
    "#     plt.axis('off')\n",
    "# plt.tight_layout()\n",
    "# #plt.show()\n",
    "# #plt.savefig(os.path.join(data_dir, 'Results', data_out, 'inclinations', f'full_grid.pdf'))"
   ]
  },
  {
   "cell_type": "code",
   "execution_count": null,
   "id": "2948ecc3",
   "metadata": {},
   "outputs": [],
   "source": []
  }
 ],
 "metadata": {
  "kernelspec": {
   "display_name": "Python 3 (ipykernel)",
   "language": "python",
   "name": "python3"
  },
  "language_info": {
   "codemirror_mode": {
    "name": "ipython",
    "version": 3
   },
   "file_extension": ".py",
   "mimetype": "text/x-python",
   "name": "python",
   "nbconvert_exporter": "python",
   "pygments_lexer": "ipython3",
   "version": "3.8.13"
  }
 },
 "nbformat": 4,
 "nbformat_minor": 5
}
