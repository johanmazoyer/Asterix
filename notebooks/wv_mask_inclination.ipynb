{
 "cells": [
  {
   "cell_type": "markdown",
   "id": "ea85ad86",
   "metadata": {},
   "source": [
    "# Wrapped vortex mask inclination\n",
    "\n",
    "Testing the implementation of grid inclination for the wrapped vortex phase mask."
   ]
  },
  {
   "cell_type": "code",
   "execution_count": null,
   "id": "2fc53f98",
   "metadata": {},
   "outputs": [],
   "source": [
    "import matplotlib.pyplot as plt\n",
    "import numpy as np\n",
    "\n",
    "from Asterix.optics import create_wrapped_vortex_mask"
   ]
  },
  {
   "cell_type": "code",
   "execution_count": null,
   "id": "4581f2b9",
   "metadata": {},
   "outputs": [],
   "source": [
    "# Overall WV parameters\n",
    "thval = np.array([0, 3, 4, 5, 8]) * np.pi / 8\n",
    "phval = np.array([3, 0, 1, 2, 1]) * np.pi\n",
    "jump = np.array([2, 2, 2, 2]) * np.pi"
   ]
  },
  {
   "cell_type": "code",
   "execution_count": null,
   "id": "43a01b8b",
   "metadata": {},
   "outputs": [],
   "source": [
    "# inclination = 0 deg\n",
    "_, fpm = create_wrapped_vortex_mask(dim=512,\n",
    "                                    thval=thval,\n",
    "                                    phval=phval,\n",
    "                                    jump=jump)\n",
    "\n",
    "# non-zero inclination of FPM\n",
    "incl_x = 50  # deg\n",
    "incl_y = 0\n",
    "_, fpm_incl = create_wrapped_vortex_mask(dim=512,\n",
    "                                    thval=thval,\n",
    "                                    phval=phval,\n",
    "                                    jump=jump,\n",
    "                                    inclination_x=incl_x,\n",
    "                                    inclination_y=incl_y)"
   ]
  },
  {
   "cell_type": "code",
   "execution_count": null,
   "id": "cfce1199",
   "metadata": {},
   "outputs": [],
   "source": [
    "plt.figure(figsize=(16, 8))\n",
    "plt.subplot(1, 2, 1)\n",
    "plt.imshow(fpm, cmap='RdBu')\n",
    "plt.subplot(1, 2, 2)\n",
    "plt.imshow(fpm_incl, cmap='RdBu')"
   ]
  },
  {
   "cell_type": "code",
   "execution_count": null,
   "id": "96a807af",
   "metadata": {},
   "outputs": [],
   "source": []
  }
 ],
 "metadata": {
  "kernelspec": {
   "display_name": "Python 3 (ipykernel)",
   "language": "python",
   "name": "python3"
  },
  "language_info": {
   "codemirror_mode": {
    "name": "ipython",
    "version": 3
   },
   "file_extension": ".py",
   "mimetype": "text/x-python",
   "name": "python",
   "nbconvert_exporter": "python",
   "pygments_lexer": "ipython3",
   "version": "3.8.13"
  }
 },
 "nbformat": 4,
 "nbformat_minor": 5
}
