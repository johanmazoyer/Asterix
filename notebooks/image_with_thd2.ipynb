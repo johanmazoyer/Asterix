{
 "cells": [
  {
   "cell_type": "markdown",
   "id": "584a86e1",
   "metadata": {},
   "source": [
    "# Just creating one image on the science camera\n",
    "\n",
    "Doing nothing more than to create a simple image with the THD2, with a setup you like."
   ]
  },
  {
   "cell_type": "code",
   "execution_count": null,
   "id": "cab033cf",
   "metadata": {},
   "outputs": [],
   "source": [
    "# Imports\n",
    "%matplotlib inline\n",
    "import os\n",
    "from astropy.io import fits\n",
    "import matplotlib as mpl\n",
    "from matplotlib.colors import LogNorm, TwoSlopeNorm\n",
    "import matplotlib.pyplot as plt\n",
    "import numpy as np\n",
    "mpl.rc('image', origin='lower')\n",
    "\n",
    "from Asterix import Asterix_root\n",
    "from Asterix.utils import get_data_dir, read_parameter_file\n",
    "from Asterix.optics import Pupil, Coronagraph, DeformableMirror, Testbed\n",
    "from Asterix.main_THD import THD2"
   ]
  },
  {
   "cell_type": "code",
   "execution_count": null,
   "id": "60424235",
   "metadata": {},
   "outputs": [],
   "source": [
    "# Create testbed instance\n",
    "parameter_file_ex = os.path.join(Asterix_root, \"Example_param_file.ini\")\n",
    "config = read_parameter_file(parameter_file_ex)\n",
    "model_dir = os.path.join(get_data_dir(), \"Model_local\")\n",
    "\n",
    "thd2 = THD2(config, model_dir)"
   ]
  },
  {
   "cell_type": "code",
   "execution_count": null,
   "id": "b642f70d",
   "metadata": {},
   "outputs": [],
   "source": [
    "# Calculate and plot coronagraphic image\n",
    "coro = thd2.todetector_intensity(in_contrast=True)\n",
    "\n",
    "plt.imshow(np.log10(coro), cmap='inferno')\n",
    "plt.colorbar()"
   ]
  },
  {
   "cell_type": "code",
   "execution_count": null,
   "id": "3c484084",
   "metadata": {},
   "outputs": [],
   "source": []
  }
 ],
 "metadata": {
  "kernelspec": {
   "display_name": "Python 3 (ipykernel)",
   "language": "python",
   "name": "python3"
  },
  "language_info": {
   "codemirror_mode": {
    "name": "ipython",
    "version": 3
   },
   "file_extension": ".py",
   "mimetype": "text/x-python",
   "name": "python",
   "nbconvert_exporter": "python",
   "pygments_lexer": "ipython3",
   "version": "3.10.8"
  }
 },
 "nbformat": 4,
 "nbformat_minor": 5
}
