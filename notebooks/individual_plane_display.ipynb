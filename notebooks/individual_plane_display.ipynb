{
 "cells": [
  {
   "cell_type": "markdown",
   "id": "f14fb37d",
   "metadata": {},
   "source": [
    "# Displaying all individual planes of a testbed (here: THD2)\n",
    "\n",
    "To make this notebook run, set the variable `save_dir` to wherever you want the output data saved, and create the sub-directories `direct_propagation` and `coro_propagation` inside it.\n",
    "\n",
    "Set `propagate = True` and run the entire testbed propagation. To prevent cluttering of your directory, you can then set `propagate = False` - but it won't overwrite the data in any case.\n",
    "\n",
    "As you move on through the notebook, you will have to change the individual fits file names that are read in for plotting."
   ]
  },
  {
   "cell_type": "code",
   "execution_count": null,
   "id": "a2a723e8",
   "metadata": {},
   "outputs": [],
   "source": [
    "save_dir = '/Users/ilaginja/Documents/LESIA/THD/asterix_model_matching/wrapped-vortex_700nm_samp646'\n",
    "propagate = True"
   ]
  },
  {
   "cell_type": "code",
   "execution_count": null,
   "id": "24ea9621",
   "metadata": {},
   "outputs": [],
   "source": [
    "# Imports\n",
    "%matplotlib inline\n",
    "import os\n",
    "from astropy.io import fits\n",
    "import matplotlib as mpl\n",
    "from matplotlib.colors import LogNorm, TwoSlopeNorm\n",
    "import matplotlib.pyplot as plt\n",
    "import numpy as np\n",
    "\n",
    "from Asterix import Asterix_root\n",
    "from Asterix.utils import get_data_dir, read_parameter_file\n",
    "from Asterix.optics import Pupil, Coronagraph, DeformableMirror, Testbed\n",
    "from Asterix.main_THD import THD2"
   ]
  },
  {
   "cell_type": "code",
   "execution_count": null,
   "id": "bfb9b292",
   "metadata": {},
   "outputs": [],
   "source": [
    "# Some setup for pretty plotting\n",
    "mpl.rc('image', origin='lower',   # Put the origin in the lower left corner.\n",
    "       interpolation=None)        # Do not interpolate between pixels in the display.\n",
    "\n",
    "cenm = TwoSlopeNorm(vcenter=0)    # Create normalization where 0 is always the center of your cmap"
   ]
  },
  {
   "cell_type": "code",
   "execution_count": null,
   "id": "bc4f10d0",
   "metadata": {},
   "outputs": [],
   "source": [
    "# Load the template parameter file\n",
    "parameter_file_ex = os.path.join(Asterix_root, \"Example_param_file.ini\")\n",
    "config = read_parameter_file(parameter_file_ex)"
   ]
  },
  {
   "cell_type": "code",
   "execution_count": null,
   "id": "a3036e0b",
   "metadata": {},
   "outputs": [],
   "source": [
    "thd2 = THD2(parameter_file_ex)"
   ]
  },
  {
   "cell_type": "markdown",
   "id": "85d44a11",
   "metadata": {},
   "source": [
    "### Add amplitude aberrations (i.e., actuator print through)"
   ]
  },
  {
   "cell_type": "code",
   "execution_count": null,
   "id": "cfc18b5c",
   "metadata": {},
   "outputs": [],
   "source": [
    "data_dir = get_data_dir()\n",
    "model_local_dir = os.path.join(data_dir, 'Model_local')\n",
    "\n",
    "simu_config = config[\"SIMUconfig\"]\n",
    "ampl_abb_up = thd2.generate_ampl_aberr(simu_config, Model_local_dir=model_local_dir)\n",
    "input_wavefront = thd2.EF_from_phase_and_ampl(ampl_abb=ampl_abb_up)"
   ]
  },
  {
   "cell_type": "markdown",
   "id": "639a14c1",
   "metadata": {},
   "source": [
    "## Propagation through testbed\n",
    "\n",
    "Run a propagation with the FPM in and the FPM out and spit out all files to disk before reading them back in and plotting them.\n",
    "\n",
    "Note how some planes only spit out the real part, while others spit out separate files for real and imaginary part."
   ]
  },
  {
   "cell_type": "code",
   "execution_count": null,
   "id": "32bdacbf",
   "metadata": {},
   "outputs": [],
   "source": [
    "print(\"############################\")\n",
    "print(f\"# Coronagraph used: {thd2.corono.corona_type} #\")\n",
    "print(\"############################\")\n",
    "print(f\"Wavelength: {thd2.wavelength_0} m = {thd2.wavelength_0 * 1e9} nm\")"
   ]
  },
  {
   "cell_type": "code",
   "execution_count": null,
   "id": "d66f813a",
   "metadata": {},
   "outputs": [],
   "source": [
    "dpath = os.path.join(save_dir, 'direct_propagation')\n",
    "cpath = os.path.join(save_dir, 'coro_propagation')"
   ]
  },
  {
   "cell_type": "code",
   "execution_count": null,
   "id": "37bc837d",
   "metadata": {},
   "outputs": [],
   "source": [
    "if propagate:\n",
    "    direct = thd2.todetector_intensity(entrance_EF=input_wavefront, in_contrast=True, noFPM=True,\n",
    "                                       dir_save_all_planes=dpath)\n",
    "    coro = thd2.todetector_intensity(entrance_EF=input_wavefront, in_contrast=True, noFPM=False,\n",
    "                                     dir_save_all_planes=cpath)"
   ]
  },
  {
   "cell_type": "markdown",
   "id": "658ddeb8",
   "metadata": {},
   "source": [
    "## Direct propagation\n",
    "\n",
    "All planes when no FPM is in."
   ]
  },
  {
   "cell_type": "markdown",
   "id": "4595d4e8",
   "metadata": {},
   "source": [
    "### Pupil mask"
   ]
  },
  {
   "cell_type": "code",
   "execution_count": null,
   "id": "6ade0989",
   "metadata": {},
   "outputs": [],
   "source": [
    "pup_after_real = fits.getdata(os.path.join(dpath, f'13_50_47_784_EF_PP_after_pupil_wl783_RE.fits'))\n",
    "print(pup_after_real.shape)\n",
    "\n",
    "plt.imshow(pup_after_real, cmap='Greys_r')\n",
    "plt.title('Entrance pupil')\n",
    "plt.colorbar()"
   ]
  },
  {
   "cell_type": "markdown",
   "id": "288c2399",
   "metadata": {},
   "source": [
    "### DM plane"
   ]
  },
  {
   "cell_type": "code",
   "execution_count": null,
   "id": "9582f448",
   "metadata": {},
   "outputs": [],
   "source": [
    "# DM1\n",
    "dm1_before_real = fits.getdata(os.path.join(dpath, '13_50_47_833_EF_PP_before_DM1_wl783_RE.fits'))\n",
    "dm1_phase = fits.getdata(os.path.join(dpath, '13_50_47_841_phase_DM1_wl783_RE.fits'))\n",
    "\n",
    "print(dm1_before_real.shape)\n",
    "print(dm1_phase.shape)\n",
    "\n",
    "plt.figure(figsize=(14, 7))\n",
    "plt.subplot(1, 2, 1)\n",
    "plt.imshow(dm1_before_real, cmap='Greys_r')\n",
    "plt.title('Before DM1')\n",
    "plt.colorbar()\n",
    "plt.subplot(1, 2, 2)\n",
    "plt.imshow(dm1_phase, cmap='RdBu', norm=cenm)\n",
    "plt.title('DM1 phase')\n",
    "plt.colorbar()"
   ]
  },
  {
   "cell_type": "code",
   "execution_count": null,
   "id": "b28fe10d",
   "metadata": {},
   "outputs": [],
   "source": [
    "# DM3\n",
    "dm3_before_real = fits.getdata(os.path.join(dpath, '13_50_47_849_EF_PP_before_DM3_wl783_RE.fits'))\n",
    "dm3_phase = fits.getdata(os.path.join(dpath, '13_50_47_854_phase_DM3_wl783_RE.fits'))\n",
    "\n",
    "print(dm3_before_real.shape)\n",
    "print(dm3_phase.shape)\n",
    "\n",
    "plt.figure(figsize=(14, 7))\n",
    "plt.subplot(1, 2, 1)\n",
    "plt.imshow(dm3_before_real, cmap='Greys_r')\n",
    "plt.title('Before DM3')\n",
    "plt.colorbar()\n",
    "plt.subplot(1, 2, 2)\n",
    "plt.imshow(dm3_phase, cmap='RdBu', norm=cenm)\n",
    "plt.title('DM3 phase')\n",
    "plt.colorbar()"
   ]
  },
  {
   "cell_type": "markdown",
   "id": "c68c27db",
   "metadata": {},
   "source": [
    "### FPM plane"
   ]
  },
  {
   "cell_type": "code",
   "execution_count": null,
   "id": "73e12441",
   "metadata": {},
   "outputs": [],
   "source": [
    "# Before the FPM\n",
    "fpm_before = fits.getdata(os.path.join(dpath, '13_50_47_876_EF_FP_before_FPM_wl783_RE_and_IM.fits'))\n",
    "print(fpm_before.shape)\n",
    "print(type(fpm_before))\n",
    "\n",
    "plt.figure(figsize=(14, 7))\n",
    "plt.subplot(1, 2, 1)\n",
    "plt.imshow(fpm_before[0], cmap='inferno')\n",
    "plt.title('Real before FPM')\n",
    "plt.colorbar()\n",
    "plt.subplot(1, 2, 2)\n",
    "plt.imshow(fpm_before[1], cmap='RdBu')\n",
    "plt.title('Imag before FPM')\n",
    "plt.colorbar()"
   ]
  },
  {
   "cell_type": "code",
   "execution_count": null,
   "id": "af289b52",
   "metadata": {},
   "outputs": [],
   "source": [
    "# After the FPM\n",
    "fpm_after = fits.getdata(os.path.join(dpath, '13_50_47_886_EF_FP_after_FPM_wl783_RE_and_IM.fits'))\n",
    "print(fpm_after.shape)\n",
    "print(type(fpm_after))\n",
    "\n",
    "plt.figure(figsize=(14, 7))\n",
    "plt.subplot(1, 2, 1)\n",
    "plt.imshow(fpm_after[0], cmap='inferno')\n",
    "plt.title('Real after FPM')\n",
    "plt.colorbar()\n",
    "plt.subplot(1, 2, 2)\n",
    "plt.imshow(fpm_after[1], cmap='RdBu')\n",
    "plt.title('Imag after FPM')\n",
    "plt.colorbar()"
   ]
  },
  {
   "cell_type": "markdown",
   "id": "d42f3bba",
   "metadata": {},
   "source": [
    "### Lyot plane"
   ]
  },
  {
   "cell_type": "code",
   "execution_count": null,
   "id": "362a7aba",
   "metadata": {},
   "outputs": [],
   "source": [
    "# Before the LS\n",
    "ls_before = fits.getdata(os.path.join(dpath, '13_50_47_901_EF_PP_before_LS_wl783_RE_and_IM.fits'))\n",
    "print(ls_before.shape)\n",
    "print(type(ls_before))\n",
    "\n",
    "plt.figure(figsize=(14, 7))\n",
    "plt.subplot(1, 2, 1)\n",
    "plt.imshow(ls_before[0], cmap='inferno', norm=LogNorm())\n",
    "plt.title('Real before LS')\n",
    "plt.colorbar()\n",
    "plt.subplot(1, 2, 2)\n",
    "plt.imshow(ls_before[1], cmap='RdBu', norm=cenm)\n",
    "plt.title('Imag before LS')\n",
    "plt.colorbar()"
   ]
  },
  {
   "cell_type": "code",
   "execution_count": null,
   "id": "bd68c0a3",
   "metadata": {},
   "outputs": [],
   "source": [
    "# The LS itself\n",
    "ls_real = fits.getdata(os.path.join(dpath, '13_50_47_904_LS_wl783_RE.fits'))\n",
    "print(ls_real.shape)\n",
    "print(type(ls_real))\n",
    "\n",
    "plt.imshow(ls_real, cmap='Greys_r')\n",
    "plt.title('Lyot stop')\n",
    "plt.colorbar()"
   ]
  },
  {
   "cell_type": "code",
   "execution_count": null,
   "id": "b5837a9e",
   "metadata": {},
   "outputs": [],
   "source": [
    "# After the LS\n",
    "ls_after = fits.getdata(os.path.join(dpath, '15_23_38_184_EF_PP_after_LS_wl700_RE_and_IM.fits'))\n",
    "print(ls_after.shape)\n",
    "print(type(ls_after))\n",
    "\n",
    "plt.figure(figsize=(10, 10))\n",
    "plt.subplot(2, 2, 1)\n",
    "plt.imshow(ls_after[0], cmap='inferno', norm=LogNorm())\n",
    "plt.title('Real after LS')\n",
    "plt.colorbar()\n",
    "plt.subplot(2, 2, 2)\n",
    "plt.imshow(ls_after[1], cmap='RdBu', norm=cenm)\n",
    "plt.title('Imag after LS')\n",
    "plt.colorbar()\n",
    "\n",
    "ls_after_complex = ls_after[0] + 1.j * ls_after[1]\n",
    "print(ls_after_complex.shape)\n",
    "print(type(ls_after_complex))\n",
    "\n",
    "plt.subplot(2, 2, 3)\n",
    "plt.imshow(np.abs(ls_after_complex)**2, cmap='Greys_r', norm=LogNorm())\n",
    "plt.title('After LS intensity')\n",
    "plt.colorbar()\n",
    "plt.subplot(2, 2, 4)\n",
    "plt.imshow(np.angle(ls_after_complex), cmap='RdBu', norm=cenm)\n",
    "plt.title('After LS phase')\n",
    "plt.colorbar()"
   ]
  },
  {
   "cell_type": "markdown",
   "id": "0eea87a6",
   "metadata": {},
   "source": [
    "### Final image (direct)"
   ]
  },
  {
   "cell_type": "code",
   "execution_count": null,
   "id": "0f9da65d",
   "metadata": {},
   "outputs": [],
   "source": [
    "img = fits.getdata(os.path.join(dpath, '13_50_47_924_EF_FP_after_THD2_obj_wl783_RE_and_IM.fits'))\n",
    "img_intensity = fits.getdata(os.path.join(dpath, '13_50_47_932_Int_FP_after_THD2_obj_RE.fits'))\n",
    "print(img.shape)\n",
    "print(type(img))\n",
    "\n",
    "plt.figure(figsize=(10, 10))\n",
    "plt.subplot(2, 2, 1)\n",
    "plt.imshow(img[0], cmap='inferno')\n",
    "plt.title('Real final image')\n",
    "plt.colorbar()\n",
    "plt.subplot(2, 2, 2)\n",
    "plt.imshow(img[1], cmap='RdBu')\n",
    "plt.title('Imag final image')\n",
    "plt.colorbar()\n",
    "plt.subplot(2, 2, 3)\n",
    "plt.imshow(np.abs(img[0] + 1.j * img[1])**2, cmap='inferno', norm=LogNorm())\n",
    "plt.title('Intensity from E-field, final image')\n",
    "plt.colorbar()\n",
    "plt.subplot(2, 2, 4)\n",
    "plt.imshow(img_intensity, cmap='inferno', norm=LogNorm())\n",
    "plt.title('Intensity form file, final image')\n",
    "plt.colorbar()"
   ]
  },
  {
   "cell_type": "markdown",
   "id": "41a68c66",
   "metadata": {},
   "source": [
    "## Coronagraph propagation\n",
    "\n",
    "All planes when the FPM is in the optical system."
   ]
  },
  {
   "cell_type": "markdown",
   "id": "59d6b138",
   "metadata": {},
   "source": [
    "### Entrance pupil"
   ]
  },
  {
   "cell_type": "code",
   "execution_count": null,
   "id": "d38125ac",
   "metadata": {},
   "outputs": [],
   "source": [
    "pup_after_real = fits.getdata(os.path.join(cpath, f'13_50_47_936_EF_PP_after_pupil_wl783_RE.fits'))\n",
    "print(pup_after_real.shape)\n",
    "\n",
    "plt.imshow(pup_after_real, cmap='Greys_r')\n",
    "plt.title('Entrance pupil')\n",
    "plt.colorbar()"
   ]
  },
  {
   "cell_type": "markdown",
   "id": "af975ce2",
   "metadata": {},
   "source": [
    "### DM plane"
   ]
  },
  {
   "cell_type": "code",
   "execution_count": null,
   "id": "5365b037",
   "metadata": {},
   "outputs": [],
   "source": [
    "# DM1\n",
    "dm1_before_real = fits.getdata(os.path.join(cpath, '13_50_47_938_EF_PP_before_DM1_wl783_RE.fits'))\n",
    "dm1_phase = fits.getdata(os.path.join(cpath, '13_50_47_940_phase_DM1_wl783_RE.fits'))\n",
    "\n",
    "print(dm1_before_real.shape)\n",
    "print(dm1_phase.shape)\n",
    "\n",
    "plt.figure(figsize=(14, 7))\n",
    "plt.subplot(1, 2, 1)\n",
    "plt.imshow(dm1_before_real, cmap='Greys_r')\n",
    "plt.title('Before DM1')\n",
    "plt.colorbar()\n",
    "plt.subplot(1, 2, 2)\n",
    "plt.imshow(dm1_phase, cmap='RdBu')\n",
    "plt.title('DM1 phase')\n",
    "plt.colorbar()"
   ]
  },
  {
   "cell_type": "code",
   "execution_count": null,
   "id": "44f5a2a7",
   "metadata": {},
   "outputs": [],
   "source": [
    "# DM3\n",
    "dm3_before_real = fits.getdata(os.path.join(cpath, '13_50_47_942_EF_PP_before_DM3_wl783_RE.fits'))\n",
    "dm3_phase = fits.getdata(os.path.join(cpath, '13_50_47_945_phase_DM3_wl783_RE.fits'))\n",
    "\n",
    "print(dm3_before_real.shape)\n",
    "print(dm3_phase.shape)\n",
    "\n",
    "plt.figure(figsize=(14, 7))\n",
    "plt.subplot(1, 2, 1)\n",
    "plt.imshow(dm3_before_real, cmap='Greys_r')\n",
    "plt.title('Before DM3')\n",
    "plt.colorbar()\n",
    "plt.subplot(1, 2, 2)\n",
    "plt.imshow(dm3_phase, cmap='RdBu')\n",
    "plt.title('DM3 phase')\n",
    "plt.colorbar()"
   ]
  },
  {
   "cell_type": "markdown",
   "id": "0b7de79f",
   "metadata": {},
   "source": [
    "### FPM plane"
   ]
  },
  {
   "cell_type": "code",
   "execution_count": null,
   "id": "f8283e0b",
   "metadata": {},
   "outputs": [],
   "source": [
    "# Before the FPM\n",
    "fpm_before = fits.getdata(os.path.join(cpath, '13_50_47_963_EF_FP_before_FPM_wl783_RE_and_IM.fits'))\n",
    "print(fpm_before.shape)\n",
    "print(type(fpm_before))\n",
    "\n",
    "plt.figure(figsize=(14, 7))\n",
    "plt.subplot(1, 2, 1)\n",
    "plt.imshow(fpm_before[0], cmap='inferno')\n",
    "plt.title('Real before FPM')\n",
    "plt.colorbar()\n",
    "plt.subplot(1, 2, 2)\n",
    "plt.imshow(fpm_before[1], cmap='RdBu')\n",
    "plt.title('Imag before FPM')\n",
    "plt.colorbar()"
   ]
  },
  {
   "cell_type": "code",
   "execution_count": null,
   "id": "a477fc7c",
   "metadata": {},
   "outputs": [],
   "source": [
    "# The FPM itself\n",
    "# Before the FPM\n",
    "fpm = fits.getdata(os.path.join(cpath, '13_50_47_971_FPM_wl783_RE_and_IM.fits'))\n",
    "fpm_complex = fpm[0] + 1.j * fpm[1]\n",
    "print(fpm_complex.shape)\n",
    "print(type(fpm_complex))\n",
    "\n",
    "plt.figure(figsize=(14, 7))\n",
    "plt.subplot(1, 2, 1)\n",
    "plt.imshow(np.abs(fpm_complex)**2, cmap='Greys_r')\n",
    "plt.title('FPM intensity')\n",
    "plt.colorbar()\n",
    "plt.subplot(1, 2, 2)\n",
    "plt.imshow(np.angle(fpm_complex), cmap='RdBu', norm=cenm)\n",
    "plt.title('FPM phase')\n",
    "plt.colorbar()"
   ]
  },
  {
   "cell_type": "code",
   "execution_count": null,
   "id": "eaebf317",
   "metadata": {},
   "outputs": [],
   "source": [
    "# After the FPM\n",
    "fpm_after = fits.getdata(os.path.join(cpath, '13_50_47_993_EF_FP_after_FPM_wl783_RE_and_IM.fits'))\n",
    "print(fpm_after.shape)\n",
    "print(type(fpm_after))\n",
    "\n",
    "plt.figure(figsize=(14, 7))\n",
    "plt.subplot(1, 2, 1)\n",
    "plt.imshow(fpm_after[0], cmap='inferno')\n",
    "plt.title('Real after FPM')\n",
    "plt.colorbar()\n",
    "plt.subplot(1, 2, 2)\n",
    "plt.imshow(fpm_after[1], cmap='RdBu')\n",
    "plt.title('Imag after FPM')\n",
    "plt.colorbar()"
   ]
  },
  {
   "cell_type": "markdown",
   "id": "6136662a",
   "metadata": {},
   "source": [
    "### Lyot plane"
   ]
  },
  {
   "cell_type": "code",
   "execution_count": null,
   "id": "0d37dc99",
   "metadata": {},
   "outputs": [],
   "source": [
    "# Before the LS\n",
    "ls_before = fits.getdata(os.path.join(cpath, '13_50_48_013_EF_PP_before_LS_wl783_RE_and_IM.fits'))\n",
    "print(ls_before.shape)\n",
    "print(type(ls_before))\n",
    "\n",
    "plt.figure(figsize=(14, 7))\n",
    "plt.subplot(1, 2, 1)\n",
    "plt.imshow(ls_before[0], cmap='inferno', norm=LogNorm())\n",
    "plt.title('Real before LS')\n",
    "plt.colorbar()\n",
    "plt.subplot(1, 2, 2)\n",
    "plt.imshow(ls_before[1], cmap='RdBu', norm=cenm)\n",
    "plt.title('Imag before LS')\n",
    "plt.colorbar()"
   ]
  },
  {
   "cell_type": "code",
   "execution_count": null,
   "id": "571d5ee9",
   "metadata": {},
   "outputs": [],
   "source": [
    "# The LS itself\n",
    "ls_real = fits.getdata(os.path.join(cpath, '13_50_48_016_LS_wl783_RE.fits'))\n",
    "print(ls_real.shape)\n",
    "print(type(ls_real))\n",
    "\n",
    "plt.imshow(ls_real, cmap='Greys_r')\n",
    "plt.title('Lyot stop')\n",
    "plt.colorbar()"
   ]
  },
  {
   "cell_type": "code",
   "execution_count": null,
   "id": "41dc996c",
   "metadata": {},
   "outputs": [],
   "source": [
    "# After the LS\n",
    "ls_after = fits.getdata(os.path.join(cpath, '15_23_38_788_EF_PP_after_LS_wl700_RE_and_IM.fits'))\n",
    "print(ls_after.shape)\n",
    "print(type(ls_after))\n",
    "\n",
    "plt.figure(figsize=(10, 10))\n",
    "plt.subplot(2, 2, 1)\n",
    "plt.imshow(ls_after[0], cmap='inferno')#, norm=LogNorm())\n",
    "plt.title('Real after LS')\n",
    "plt.colorbar()\n",
    "plt.subplot(2, 2, 2)\n",
    "plt.imshow(ls_after[1], cmap='RdBu')#, norm=cenm)\n",
    "plt.title('Imag after LS')\n",
    "plt.colorbar()\n",
    "\n",
    "ls_after_complex = ls_after[0] + 1.j * ls_after[1]\n",
    "print(ls_after_complex.shape)\n",
    "print(type(ls_after_complex))\n",
    "\n",
    "plt.subplot(2, 2, 3)\n",
    "plt.imshow(np.abs(ls_after_complex)**2, cmap='Greys_r', norm=LogNorm())\n",
    "plt.title('After LS intensity')\n",
    "plt.colorbar()\n",
    "plt.subplot(2, 2, 4)\n",
    "plt.imshow(np.angle(ls_after_complex), cmap='RdBu', norm=cenm)\n",
    "plt.title('After LS phase')\n",
    "plt.colorbar()"
   ]
  },
  {
   "cell_type": "markdown",
   "id": "019f0f68",
   "metadata": {},
   "source": [
    "### Final image (coronagraphic)"
   ]
  },
  {
   "cell_type": "code",
   "execution_count": null,
   "id": "9acf2f94",
   "metadata": {},
   "outputs": [],
   "source": [
    "img = fits.getdata(os.path.join(cpath, '13_50_48_030_EF_FP_after_THD2_obj_wl783_RE_and_IM.fits'))\n",
    "img_intensity = fits.getdata(os.path.join(cpath, '13_50_48_041_Int_FP_after_THD2_obj_RE.fits'))\n",
    "print(img.shape)\n",
    "print(type(img))\n",
    "\n",
    "plt.figure(figsize=(10, 10))\n",
    "plt.subplot(2, 2, 1)\n",
    "plt.imshow(img[0], cmap='inferno')\n",
    "plt.title('Real final image')\n",
    "plt.colorbar()\n",
    "plt.subplot(2, 2, 2)\n",
    "plt.imshow(img[1], cmap='RdBu')\n",
    "plt.title('Imag final image')\n",
    "plt.colorbar()\n",
    "plt.subplot(2, 2, 3)\n",
    "plt.imshow(np.abs(img[0] + 1.j * img[1])**2, cmap='inferno')#, norm=LogNorm())\n",
    "plt.title('Intensity from E-field, final image')\n",
    "plt.colorbar()\n",
    "plt.subplot(2, 2, 4)\n",
    "plt.imshow(img_intensity, cmap='inferno')#, norm=LogNorm())\n",
    "plt.title('Intensity form file, final image')\n",
    "plt.colorbar()"
   ]
  },
  {
   "cell_type": "code",
   "execution_count": null,
   "id": "95be7633",
   "metadata": {},
   "outputs": [],
   "source": []
  }
 ],
 "metadata": {
  "kernelspec": {
   "display_name": "Python 3 (ipykernel)",
   "language": "python",
   "name": "python3"
  },
  "language_info": {
   "codemirror_mode": {
    "name": "ipython",
    "version": 3
   },
   "file_extension": ".py",
   "mimetype": "text/x-python",
   "name": "python",
   "nbconvert_exporter": "python",
   "pygments_lexer": "ipython3",
   "version": "3.8.13"
  }
 },
 "nbformat": 4,
 "nbformat_minor": 5
}
