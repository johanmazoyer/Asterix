{
 "cells": [
  {
   "cell_type": "markdown",
   "id": "b2cdf8af",
   "metadata": {},
   "source": [
    "# Beginner tutorial: Optical components and systems in Asterix\n",
    "\n",
    "This notebook is based on the script `tuto_asterix_model.py` on commit `213d669bfd944533c7befe9800a73b9b3592ab38`. The biggest difference is that we will not be saving fits files to disk, instead we will plot figures interactively in this notebook.\n",
    "\n",
    "This tutorial goes over the basic usage of optical systems in Asterix: how to create them, how to change them, how to access their properties. We will first start with a generic optical system and then set up a model of the THD2 bench.\n",
    "\n",
    "There main explanations about all of this are given in the PDF documentation file so this notebook will cover the minimum with some code that runs."
   ]
  },
  {
   "cell_type": "code",
   "execution_count": null,
   "id": "4f5c22a3",
   "metadata": {},
   "outputs": [],
   "source": [
    "# Imports\n",
    "import os\n",
    "import matplotlib as mpl\n",
    "from matplotlib.colors import LogNorm\n",
    "import matplotlib.pyplot as plt\n",
    "import numpy as np\n",
    "\n",
    "from Asterix import Asterix_root\n",
    "from Asterix.utils import read_parameter_file\n",
    "from Asterix.optics import Pupil, Coronagraph, DeformableMirror, Testbed"
   ]
  },
  {
   "cell_type": "code",
   "execution_count": null,
   "id": "0b54c02a",
   "metadata": {},
   "outputs": [],
   "source": [
    "# Some setup for pretty plotting\n",
    "mpl.rc('image', origin='lower',   # Put the origin in the lower left corner.\n",
    "       interpolation=None)        # Do not interpolate between pixels in the display."
   ]
  },
  {
   "cell_type": "markdown",
   "id": "7158bbc2",
   "metadata": {},
   "source": [
    "## Creating and loading a configuration file\n",
    "\n",
    "Note how \"configuration file\" and \"parameter file\" will be used interchangably in the following.\n",
    "\n",
    "The basic sestup for all code within Asterix (optical systems, DMs, loops, simulations, ...) is defined within structured configuration file with file extension `.ini`. The purpose of this is to be able to save out a copy of this file during each run so that its details can be looked up at a later time, and also to easily create new simulation setups that can be run just by plugging in a new configuration file with updated parameters.\n",
    "\n",
    "An example of such a file is given with `Example_param_file.ini`, and the abstract structure of this configuration file is given by the template `Param_configspec.ini`.\n",
    "\n",
    "The first thing we will do is to load the example parameter file."
   ]
  },
  {
   "cell_type": "code",
   "execution_count": null,
   "id": "a82b381d",
   "metadata": {},
   "outputs": [],
   "source": [
    "# Load the template parameter file\n",
    "parameter_file_ex = Asterix_root + \"Example_param_file.ini\"\n",
    "config = read_parameter_file(parameter_file_ex)"
   ]
  },
  {
   "cell_type": "markdown",
   "id": "52416c19",
   "metadata": {},
   "source": [
    "This function will make sure any new configuration file is written in the correct format and contains all the required parameters. Let us first see how to access the information inside it."
   ]
  },
  {
   "cell_type": "code",
   "execution_count": null,
   "id": "693402a5",
   "metadata": {},
   "outputs": [],
   "source": [
    "# You can plain-print the loaded configuration:\n",
    "print(config)"
   ]
  },
  {
   "cell_type": "code",
   "execution_count": null,
   "id": "989b5ccc",
   "metadata": {},
   "outputs": [],
   "source": [
    "# Print all the sections of the configuration file:\n",
    "for keys in config:\n",
    "    print(keys)"
   ]
  },
  {
   "cell_type": "markdown",
   "id": "6f3e3257",
   "metadata": {},
   "source": [
    "We will now assign each set of configuration parameters that we need in this tutorial a new variable."
   ]
  },
  {
   "cell_type": "code",
   "execution_count": null,
   "id": "41d52344",
   "metadata": {},
   "outputs": [],
   "source": [
    "modelconfig = config[\"modelconfig\"]\n",
    "DMconfig = config[\"DMconfig\"]\n",
    "Coronaconfig = config[\"Coronaconfig\"]\n",
    "SIMUconfig = config[\"SIMUconfig\"]"
   ]
  },
  {
   "cell_type": "markdown",
   "id": "9aa022e5",
   "metadata": {},
   "source": [
    "Each of these variables is a dictionary with setup parameters for our simulations."
   ]
  },
  {
   "cell_type": "code",
   "execution_count": null,
   "id": "0be78130",
   "metadata": {},
   "outputs": [],
   "source": [
    "# Inpsect \"modelconfig\" parameters:\n",
    "for key, value in modelconfig.items():\n",
    "    print(f\"{key}: {value}\")"
   ]
  },
  {
   "cell_type": "code",
   "execution_count": null,
   "id": "fda3ca4a",
   "metadata": {},
   "outputs": [],
   "source": [
    "# Inpsect \"DMconfig\" parameters:\n",
    "for key, value in DMconfig.items():\n",
    "    print(f\"{key}: {value}\")"
   ]
  },
  {
   "cell_type": "code",
   "execution_count": null,
   "id": "7227dab8",
   "metadata": {},
   "outputs": [],
   "source": [
    "# Inpsect \"Coronaconfig\" parameters:\n",
    "for key, value in Coronaconfig.items():\n",
    "    print(f\"{key}: {value}\")"
   ]
  },
  {
   "cell_type": "code",
   "execution_count": null,
   "id": "9315f524",
   "metadata": {},
   "outputs": [],
   "source": [
    "# Inpsect \"SIMUconfig\" parameters:\n",
    "for key, value in SIMUconfig.items():\n",
    "    print(f\"{key}: {value}\")"
   ]
  },
  {
   "cell_type": "markdown",
   "id": "6110c0d0",
   "metadata": {},
   "source": [
    "## Data management\n",
    "\n",
    "All data created by Asterix will be saved to a main folder whose path is defined with a variable in the input configfile. Since we will not be saving any data out in this tutorial, we are ignoring this."
   ]
  },
  {
   "cell_type": "markdown",
   "id": "e231f81d",
   "metadata": {},
   "source": [
    "## Simple optical system with a Roman pupil\n",
    "\n",
    "We will now create a simple optical system and see how we can operate it and what outputs we can create.\n",
    "\n",
    "Note that we can override parameters in the configuration variables at runtime. This will not change opticla systems that were already created from these variables. In our case, we didn't do anything yet, so we will start by defining a small pupil of 80 pixels across so that the propagations don't take too much time."
   ]
  },
  {
   "cell_type": "code",
   "execution_count": null,
   "id": "f9b3078d",
   "metadata": {},
   "outputs": [],
   "source": [
    "# Update the pixels across the pupil\n",
    "modelconfig.update({'diam_pup_in_pix': 80})"
   ]
  },
  {
   "cell_type": "markdown",
   "id": "4a58fa92",
   "metadata": {},
   "source": [
    "In order to create a full optical system, we first create all the individual components which we concatenate at the end to compose our full optical system."
   ]
  },
  {
   "cell_type": "markdown",
   "id": "583ad6f2",
   "metadata": {},
   "source": [
    "### Pupil aperture\n",
    "\n",
    "We start by defining a pupil. Its physical radius is defined by the variable `prad` in the configfile."
   ]
  },
  {
   "cell_type": "code",
   "execution_count": null,
   "id": "7c491af4",
   "metadata": {},
   "outputs": [],
   "source": [
    "# Create a pupil\n",
    "pup_round = Pupil(modelconfig)"
   ]
  },
  {
   "cell_type": "markdown",
   "id": "ca3db91a",
   "metadata": {},
   "source": [
    "To plot the pupil, we need to access its attribute `pup`."
   ]
  },
  {
   "cell_type": "code",
   "execution_count": null,
   "id": "dbc5c8d1",
   "metadata": {},
   "outputs": [],
   "source": [
    "# Plot the round pupil\n",
    "plt.imshow(pup_round.pup, cmap='Greys_r')\n",
    "plt.title(f\"Round pupil with {2*pup_round.prad} pixels across.\")"
   ]
  },
  {
   "cell_type": "markdown",
   "id": "94dfa18a",
   "metadata": {},
   "source": [
    "We can also create pupils from input files, like in the case of the Roman pupil."
   ]
  },
  {
   "cell_type": "code",
   "execution_count": null,
   "id": "c7a69a80",
   "metadata": {},
   "outputs": [],
   "source": [
    "# Create a pupil object representing the Roman pupil. For this one, we use rebin\n",
    "# to resize a .fits size at the prefered size so you need to choose a divisor of the .fits file \n",
    "# size (500) for diam_pup_in_pix parameter: [100, 125, 250, 500]\n",
    "modelconfig.update({'diam_pup_in_pix': 100})\n",
    "pup_roman = Pupil(modelconfig, PupType=\"RomanPup\")"
   ]
  },
  {
   "cell_type": "code",
   "execution_count": null,
   "id": "1fd10a69",
   "metadata": {},
   "outputs": [],
   "source": [
    "# Plot the Roman pupil\n",
    "plt.imshow(pup_roman.pup, cmap='Greys_r')\n",
    "plt.title(f\"Roman Space Telescope pupil\")"
   ]
  },
  {
   "cell_type": "markdown",
   "id": "30758d16",
   "metadata": {},
   "source": [
    "These objects have a bunch of parameters that define them which can also be set at the time the object is instantiated. For examples, we can create pupils with different sizes in pixels if we would like to, wehich can be useful for Lyot stops."
   ]
  },
  {
   "cell_type": "code",
   "execution_count": null,
   "id": "eb013202",
   "metadata": {},
   "outputs": [],
   "source": [
    "# Create a round pupil with 200 pixels across\n",
    "pup_round_100 = Pupil(modelconfig, prad=100)\n",
    "\n",
    "# Plot this pupil\n",
    "plt.imshow(pup_round_100.pup, cmap='Greys_r')\n",
    "plt.title(f\"Round pupil with 200 pixels across.\")"
   ]
  },
  {
   "cell_type": "markdown",
   "id": "93899b34",
   "metadata": {},
   "source": [
    "Watch out how some of these parameters play together when you change only one of them. In the above example, we adjusted the number of pixels across the clear pupil, but not the number of pixels in the total array."
   ]
  },
  {
   "cell_type": "markdown",
   "id": "d5c63ce6",
   "metadata": {},
   "source": [
    "### Propagations through an optical element\n",
    "\n",
    "Each of the pupil objects defined above has methods that perform the optical propagations (this is true for each optical element).\n",
    "\n",
    "The first thing we can do is to calculate the electrical field (EF) right after the optical element in question, here shown for the Roman pupil. The result is a complex array, although in the case of a non-aberrated input wavefront at the plane of the pupil, this is just a real-valued array."
   ]
  },
  {
   "cell_type": "code",
   "execution_count": null,
   "id": "ab9684b2",
   "metadata": {},
   "outputs": [],
   "source": [
    "# Calculate the EF right after the Roman pupil\n",
    "EF_through_roman = pup_roman.EF_through(entrance_EF=1.)"
   ]
  },
  {
   "cell_type": "code",
   "execution_count": null,
   "id": "547f877d",
   "metadata": {},
   "outputs": [],
   "source": [
    "plt.imshow(EF_through_roman)\n",
    "plt.title('Complex array which is real with perfect incoming wavefront.')"
   ]
  },
  {
   "cell_type": "markdown",
   "id": "b595c91d",
   "metadata": {},
   "source": [
    "We can also calculate the associated PSF of this optical element (which is now a simple optical system) by using the method `todetector_intensity()`."
   ]
  },
  {
   "cell_type": "code",
   "execution_count": null,
   "id": "3cb156a0",
   "metadata": {},
   "outputs": [],
   "source": [
    "psf_roman = pup_roman.todetector_intensity()"
   ]
  },
  {
   "cell_type": "code",
   "execution_count": null,
   "id": "089cf414",
   "metadata": {},
   "outputs": [],
   "source": [
    "plt.imshow(psf_roman, cmap='inferno', norm=LogNorm())\n",
    "plt.title('Intensity of the Fourier transform of the Roman pupil')\n",
    "plt.colorbar()"
   ]
  },
  {
   "cell_type": "code",
   "execution_count": null,
   "id": "6098fbba",
   "metadata": {},
   "outputs": [],
   "source": [
    "# The chromaticity of the source is defined in all opitcal systems with three parameters:\n",
    "print(\"Central wavelength: \", pup_roman.wavelength_0)\n",
    "print(\"Bandwidth: \", pup_roman.Delta_wav)\n",
    "print(\"Number of sub-wavelengths: \", pup_roman.nb_wav)"
   ]
  },
  {
   "cell_type": "markdown",
   "id": "f378d9dc",
   "metadata": {},
   "source": [
    "Also, all OpticalSystem objects have a transmission, which is the ratio of flux after the system, compared to a clear aperture of equivalent radius."
   ]
  },
  {
   "cell_type": "code",
   "execution_count": null,
   "id": "3cef724d",
   "metadata": {},
   "outputs": [],
   "source": [
    "# Show the transmission of the Roman pupil\n",
    "print(f\"Transmission of the Roman pupil: {pup_roman.transmission()}\")"
   ]
  },
  {
   "cell_type": "markdown",
   "id": "691e9630",
   "metadata": {},
   "source": [
    "## Coronagraph\n",
    "\n",
    "A coronagraph is a system composed of 3 planes. An apodization plane (PP), a FPM (FP) and a Lyot stop (PP). The coronagraph currently in the example configuration file does not have an apodization pupil because there is no such plane on the THD2 bench, but we can put one in, which is what we do with RoundPup below."
   ]
  },
  {
   "cell_type": "code",
   "execution_count": null,
   "id": "9c90f272",
   "metadata": {},
   "outputs": [],
   "source": [
    "# Define a round pupil in the apodization plane\n",
    "Coronaconfig.update({'filename_instr_apod': \"RoundPup\"})"
   ]
  },
  {
   "cell_type": "markdown",
   "id": "5c5b84d5",
   "metadata": {},
   "source": [
    "With this, we can create an optical system with a coronagraph from the default parameters in the configuration file."
   ]
  },
  {
   "cell_type": "code",
   "execution_count": null,
   "id": "e2af7b3e",
   "metadata": {},
   "outputs": [],
   "source": [
    "# Create the coronagraph\n",
    "corono = Coronagraph(modelconfig, Coronaconfig)"
   ]
  },
  {
   "cell_type": "markdown",
   "id": "3709f2b4",
   "metadata": {},
   "source": [
    "For the coronagraph, we can measure 2 types of PSFs: with or without the FPM in the beam."
   ]
  },
  {
   "cell_type": "code",
   "execution_count": null,
   "id": "dad013ad",
   "metadata": {},
   "outputs": [],
   "source": [
    "# PSF without FPM\n",
    "direct_psf = corono.todetector_intensity(center_on_pixel=True, noFPM=True)\n",
    "# Get normalization factor from direct PSF\n",
    "max_psf = direct_psf.max()"
   ]
  },
  {
   "cell_type": "code",
   "execution_count": null,
   "id": "327e37bc",
   "metadata": {},
   "outputs": [],
   "source": [
    "# Coronagraphic PSF (with FPM)\n",
    "coro_psf = corono.todetector_intensity(center_on_pixel=True, noFPM=False)"
   ]
  },
  {
   "cell_type": "code",
   "execution_count": null,
   "id": "e2303cf1",
   "metadata": {},
   "outputs": [],
   "source": [
    "plt.figure(figsize=(16,8))\n",
    "\n",
    "plt.subplot(1,2,1)\n",
    "plt.imshow(direct_psf/max_psf, cmap='inferno', norm=LogNorm())\n",
    "plt.title('Direct PSF')\n",
    "plt.colorbar()\n",
    "\n",
    "plt.subplot(1,2,2)\n",
    "plt.imshow(coro_psf/max_psf, cmap='inferno')\n",
    "plt.title('Coronagraphic PSF - perfect coronagraph')\n",
    "plt.colorbar()"
   ]
  },
  {
   "cell_type": "markdown",
   "id": "bebc7053",
   "metadata": {},
   "source": [
    "Note how the coronagraphic PSF here gives an almost empty array since the default coronagraph in the example parameterfile is a *perfect* coronagraph."
   ]
  },
  {
   "cell_type": "markdown",
   "id": "dde7883f",
   "metadata": {},
   "source": [
    "## Aberrations\n",
    "\n",
    "We can create phase aberrations within a coronagraph by creating a phase screen with specific parameters, passed again from our input configuration file."
   ]
  },
  {
   "cell_type": "code",
   "execution_count": null,
   "id": "27b6dfcf",
   "metadata": {},
   "outputs": [],
   "source": [
    "# Create a phase screen\n",
    "phase = corono.generate_phase_aberr(SIMUconfig)\n",
    "print(type(phase))"
   ]
  },
  {
   "cell_type": "code",
   "execution_count": null,
   "id": "2defe7ed",
   "metadata": {},
   "outputs": [],
   "source": [
    "# Plot the phase screen\n",
    "plt.imshow(phase, cmap='RdBu')\n",
    "plt.title('Default phase screen')\n",
    "plt.colorbar()"
   ]
  },
  {
   "cell_type": "markdown",
   "id": "abe71690",
   "metadata": {},
   "source": [
    "We can generate an E-field at the entrance of the coronagraph that includes this phase."
   ]
  },
  {
   "cell_type": "code",
   "execution_count": null,
   "id": "e4d7c248",
   "metadata": {},
   "outputs": [],
   "source": [
    "aberrated_EF = corono.EF_from_phase_and_ampl(phase_abb=phase)"
   ]
  },
  {
   "cell_type": "code",
   "execution_count": null,
   "id": "29b9e9d9",
   "metadata": {},
   "outputs": [],
   "source": [
    "plt.figure(figsize=(16,8))\n",
    "\n",
    "plt.subplot(1,2,1)\n",
    "plt.imshow(np.abs(aberrated_EF)**2, cmap='inferno')\n",
    "plt.title('EF intensity')\n",
    "plt.colorbar()\n",
    "\n",
    "plt.subplot(1,2,2)\n",
    "plt.title('EF phase')\n",
    "plt.imshow(np.angle(aberrated_EF), cmap='RdBu')\n",
    "plt.colorbar()"
   ]
  },
  {
   "cell_type": "markdown",
   "id": "19d3acc0",
   "metadata": {},
   "source": [
    "We can use this E-field as an input wavefront to our coronagraph and propagate it through it - we can choose whether we calculate the output intensity directly or if we want to return the whole E-field that results at the end of the propagation."
   ]
  },
  {
   "cell_type": "code",
   "execution_count": null,
   "id": "2c944028",
   "metadata": {},
   "outputs": [],
   "source": [
    "# Calculate coronagraphic PSF with chosen in put E-field\n",
    "coro_psf_aber = corono.todetector_intensity(entrance_EF=aberrated_EF)\n",
    "\n",
    "plt.imshow(coro_psf_aber/max_psf, cmap='inferno', norm=LogNorm())\n",
    "plt.title('Coronagraphic PSF with phase aberrations')\n",
    "plt.colorbar()"
   ]
  },
  {
   "cell_type": "markdown",
   "id": "f5ad20a1",
   "metadata": {},
   "source": [
    "## Deformable mirrors\n",
    "\n",
    "Deformable mirrors (DMs) can be in a pupil plane or outside a pupil plane. In the default configuration file, the DM we can create is in a pupil plane."
   ]
  },
  {
   "cell_type": "code",
   "execution_count": null,
   "id": "f6f4e603",
   "metadata": {},
   "outputs": [],
   "source": [
    "# Create in-pupil DM\n",
    "DM3 = DeformableMirror(modelconfig, DMconfig, Name_DM='DM3', Model_local_dir='temp')"
   ]
  },
  {
   "cell_type": "markdown",
   "id": "289c2208",
   "metadata": {},
   "source": [
    "DMs are also optical systems with the same propagation methods like we saw above, but with some extra parameters, for example `DMphase`. This lets us introduce a phase in the plane of the DM in question."
   ]
  },
  {
   "cell_type": "code",
   "execution_count": null,
   "id": "2681cc9e",
   "metadata": {},
   "outputs": [],
   "source": [
    "# Propagate the EF \"through\" the DM\n",
    "EF_though_DM = DM3.EF_through(entrance_EF=1., DMphase=0.)\n",
    "print(type(EF_though_DM))\n",
    "print(EF_though_DM)"
   ]
  },
  {
   "cell_type": "markdown",
   "id": "558dca35",
   "metadata": {},
   "source": [
    "What we encounter here is that the calculated E-field contains elements of only one value, which is why the return is collapsed into a single float.\n",
    "\n",
    "In a more involved example, we can chose to inject the phase screen from above in the DM3 plane and repeat the propagation. In this case, an array will be returned."
   ]
  },
  {
   "cell_type": "code",
   "execution_count": null,
   "id": "156f624c",
   "metadata": {},
   "outputs": [],
   "source": [
    "# Propagate \"through\" DM including a phase aberration\n",
    "EF_though_DM_aber = DM3.EF_through(entrance_EF=aberrated_EF, DMphase=phase)\n",
    "print(type(EF_though_DM_aber))\n",
    "print(EF_though_DM_aber.shape)"
   ]
  },
  {
   "cell_type": "code",
   "execution_count": null,
   "id": "c9bdcca5",
   "metadata": {},
   "outputs": [],
   "source": [
    "# Plot components of the E-field on this DM\n",
    "plt.figure(figsize=(16,8))\n",
    "plt.subplot(1,2,1)\n",
    "plt.imshow(np.abs(EF_though_DM_aber)**2, cmap='inferno')\n",
    "plt.colorbar()\n",
    "plt.subplot(1,2,2)\n",
    "plt.imshow(np.angle(EF_though_DM_aber), cmap='RdBu')\n",
    "plt.colorbar()"
   ]
  },
  {
   "cell_type": "markdown",
   "id": "7adef8c0",
   "metadata": {},
   "source": [
    "## Full optical system concatenation\n",
    "\n",
    "Now that we have all these Optical Systems defined, we can play with them and concatenate them. The concatenation function takes 2 parameters:\n",
    "\n",
    "- A list of Optical Systems\n",
    "- A list of the same size containing the names of those systems so that you can access them\n",
    "\n",
    "The list order is from the first optical system to the last in the path of the light (usually from entrance pupil to Lyot pupil)."
   ]
  },
  {
   "cell_type": "code",
   "execution_count": null,
   "id": "6af2f7c0",
   "metadata": {},
   "outputs": [],
   "source": [
    "# Concatenate the round pupil, DM3 and coronagraph from above into a single optical system\n",
    "testbed_1DM = Testbed([pup_round_100, DM3, corono],\n",
    "                            [\"entrancepupil\", \"DM3\", \"corono\"])"
   ]
  },
  {
   "cell_type": "markdown",
   "id": "c7af4503",
   "metadata": {},
   "source": [
    "Each of the subsystems can now be accessed individually with the name you have given it:  \n",
    "--> testbed_1DM.entrancepupil, testbed.DM3, etc\n",
    "\n",
    "To avoid any confusion in case of multiple DMs, the command to access DMs is now `XXXphase`, where `XXX` is the name of the DM, for example `DM3` or `DM1`.\n"
   ]
  },
  {
   "cell_type": "code",
   "execution_count": null,
   "id": "00042611",
   "metadata": {},
   "outputs": [],
   "source": [
    "# Calculate the PSF through the whole optical system\n",
    "psf_after_testbed = testbed_1DM.todetector_intensity(entrance_EF=aberrated_EF, DM3phase=phase)\n",
    "\n",
    "plt.imshow(psf_after_testbed, cmap='inferno', norm=LogNorm())\n",
    "plt.title('Full testbed PSF (unnormalized) - round pupil')\n",
    "plt.colorbar()"
   ]
  },
  {
   "cell_type": "markdown",
   "id": "cb617ee5",
   "metadata": {},
   "source": [
    "We can now play with all the things we defined up to now, for example creating a 1DM-testbed with a Roman-like pupil mask."
   ]
  },
  {
   "cell_type": "code",
   "execution_count": null,
   "id": "23a173ff",
   "metadata": {},
   "outputs": [],
   "source": [
    "# Create testbed with RST pupil\n",
    "testbed_1DM_romanpup = Testbed([pup_roman, DM3, corono],\n",
    "                                     [\"entrancepupil\", \"DM3\", \"corono\"])\n",
    "psf_after_roman_testbed = testbed_1DM_romanpup.todetector_intensity(entrance_EF=aberrated_EF, DM3phase=phase)\n",
    "\n",
    "plt.imshow(psf_after_roman_testbed, cmap='inferno', norm=LogNorm())\n",
    "plt.title('Full testbed PSF (unnormalized) - RST pupil')\n",
    "plt.colorbar()"
   ]
  },
  {
   "cell_type": "code",
   "execution_count": null,
   "id": "457f5bf8",
   "metadata": {},
   "outputs": [],
   "source": [
    "# If you have DMs in your system, these are saved in the structure so that you can access them:\n",
    "print(\"Number of DMs in testbed_1DM_romanpup:\", testbed_1DM_romanpup.number_DMs)\n",
    "print(\"Name of the DMs: \", testbed_1DM_romanpup.name_of_DMs)"
   ]
  },
  {
   "cell_type": "markdown",
   "id": "36fdae16",
   "metadata": {},
   "source": [
    "## Simulating the THD2 testbed\n",
    "\n",
    "If we want to define exactly the THD2 testbed, we need to add a second DM outside the pupil plane. This can take som time to initialize exactly because the first DM is outside a pupil plane."
   ]
  },
  {
   "cell_type": "code",
   "execution_count": null,
   "id": "26b4c4cd",
   "metadata": {},
   "outputs": [],
   "source": [
    "# We need to increase the number of pixels in the pupil if we add another DM.\n",
    "modelconfig.update({'diam_pup_in_pix': 200})"
   ]
  },
  {
   "cell_type": "markdown",
   "id": "6f3128f7",
   "metadata": {},
   "source": [
    "Once we change the `modelconfig` secion of the configuration file/object, all the previously defined systems are of the wrong dimensions so they cannot be concatenated and must be recalculated."
   ]
  },
  {
   "cell_type": "code",
   "execution_count": null,
   "id": "bf8f1807",
   "metadata": {},
   "outputs": [],
   "source": [
    "# Instantiate new pupil object from updated parameters\n",
    "pup_round_larger = Pupil(modelconfig)\n",
    "\n",
    "plt.imshow(pup_round_larger.pup, cmap='Greys_r')\n",
    "plt.title(\"Slightly larger round pupil\")"
   ]
  },
  {
   "cell_type": "code",
   "execution_count": null,
   "id": "cb3b8aad",
   "metadata": {},
   "outputs": [],
   "source": [
    "# Create in-pupil DM\n",
    "DM3 = DeformableMirror(modelconfig,\n",
    "                              DMconfig,\n",
    "                              Name_DM='DM3',\n",
    "                              Model_local_dir='temp')\n",
    "\n",
    "# Create out-of-pupil DM\n",
    "DMconfig.update({'DM1_active': True})\n",
    "DM1 = DeformableMirror(modelconfig,\n",
    "                              DMconfig,\n",
    "                              Name_DM='DM1',\n",
    "                              Model_local_dir='temp')"
   ]
  },
  {
   "cell_type": "code",
   "execution_count": null,
   "id": "64d19b9c",
   "metadata": {},
   "outputs": [],
   "source": [
    "# We also need to \"clear\" the apodizer plane because  there is no apodizer plane on the THD2 bench.\n",
    "Coronaconfig.update({'filename_instr_apod': \"Clear\"})\n",
    "corono_thd = Coronagraph(modelconfig, Coronaconfig)"
   ]
  },
  {
   "cell_type": "markdown",
   "id": "570f96b3",
   "metadata": {},
   "source": [
    "And then we concatenate all these components into our THD2 simulator."
   ]
  },
  {
   "cell_type": "code",
   "execution_count": null,
   "id": "522fdadb",
   "metadata": {},
   "outputs": [],
   "source": [
    "# And then just concatenate:\n",
    "thd2 = Testbed([pup_round_larger, DM1, DM3, corono_thd],\n",
    "                     [\"entrancepupil\", \"DM1\", \"DM3\", \"corono\"])"
   ]
  },
  {
   "cell_type": "code",
   "execution_count": null,
   "id": "07e0f3e2",
   "metadata": {},
   "outputs": [],
   "source": [
    "# If you have DMs in your system, these are saved in the structure so that you can access them\n",
    "print(\"Number of DMs on THD2:\", thd2.number_DMs)\n",
    "print(\"Name of the DMs: \", thd2.name_of_DMs)"
   ]
  },
  {
   "cell_type": "markdown",
   "id": "6ee6e26e",
   "metadata": {},
   "source": [
    "And Now that we have all the tools, we can define even more complicated systems. Let's define a third DM, similar to DM1, but outside the pupil in the other dimension."
   ]
  },
  {
   "cell_type": "code",
   "execution_count": null,
   "id": "f5dfc082",
   "metadata": {},
   "outputs": [],
   "source": [
    "DMconfig.update({'DM1_z_position': -15e-2})  # meter\n",
    "DMconfig.update({'DM1_active': True})\n",
    "DMnew = DeformableMirror(modelconfig,\n",
    "                                DMconfig,\n",
    "                                Name_DM='DM1',\n",
    "                                Model_local_dir='temp')"
   ]
  },
  {
   "cell_type": "markdown",
   "id": "09cc98f9",
   "metadata": {},
   "source": [
    "The variable Name_DM in this function is to be understood as the type of DM you want to use (DM3 is a BMC32x32 type DM and DM1 is a BMC34x34) but the real name in the system is to be defined in the concatenation.\n",
    "\n",
    "We also want to add a pupil in between all these DMs. Let's make it a round pupil for now, but we could imagine putting an apodizer here."
   ]
  },
  {
   "cell_type": "code",
   "execution_count": null,
   "id": "78497dea",
   "metadata": {},
   "outputs": [],
   "source": [
    "# Instantiate pupil for in-between DMs\n",
    "pupil_inbetween_DM = Pupil(modelconfig)"
   ]
  },
  {
   "cell_type": "code",
   "execution_count": null,
   "id": "68ff5ea1",
   "metadata": {},
   "outputs": [],
   "source": [
    "# And a roman entrance pupil\n",
    "pup_roman_larger = Pupil(modelconfig, PupType=\"RomanPup\")"
   ]
  },
  {
   "cell_type": "code",
   "execution_count": null,
   "id": "2e48c8ae",
   "metadata": {},
   "outputs": [],
   "source": [
    "# Let's concatenate everything!\n",
    "testbed_3DM = Testbed([pup_roman_larger, DM1, DM3, pupil_inbetween_DM, DMnew, corono_thd],\n",
    "                            [\"entrancepupil\", \"DM1\", \"DM3\", \"pupil_inbetween_DM\", \"DMnew\", \"corono\"])"
   ]
  },
  {
   "cell_type": "code",
   "execution_count": null,
   "id": "37787d83",
   "metadata": {},
   "outputs": [],
   "source": [
    "print(\"Number of DMs in testbed_3DM:\", testbed_3DM.number_DMs)\n",
    "print(\"Name of the DMs: \", testbed_3DM.name_of_DMs)"
   ]
  },
  {
   "cell_type": "code",
   "execution_count": null,
   "id": "a8d129b0",
   "metadata": {},
   "outputs": [],
   "source": []
  }
 ],
 "metadata": {
  "kernelspec": {
   "display_name": "Python 3.10.6 ('asterix-env')",
   "language": "python",
   "name": "python3"
  },
  "language_info": {
   "codemirror_mode": {
    "name": "ipython",
    "version": 3
   },
   "file_extension": ".py",
   "mimetype": "text/x-python",
   "name": "python",
   "nbconvert_exporter": "python",
   "pygments_lexer": "ipython3",
   "version": "3.10.6"
  },
  "vscode": {
   "interpreter": {
    "hash": "19ae1a72aefc0eb81101e2a45da3fa87765a8aed7c62e6c82649da966948c1ef"
   }
  }
 },
 "nbformat": 4,
 "nbformat_minor": 5
}
